{
 "cells": [
  {
   "cell_type": "code",
   "execution_count": 1,
   "id": "acf6a204-7a29-4013-a03c-32a4c1aab845",
   "metadata": {},
   "outputs": [],
   "source": [
    "import pandas as pd"
   ]
  },
  {
   "cell_type": "code",
   "execution_count": 2,
   "id": "50fd46aa-1ffa-47a6-a479-79cfd4ed4bc2",
   "metadata": {},
   "outputs": [],
   "source": [
    "masking = pd.read_csv('/home/anopsy/Code/hackher/data/masking.csv')\n",
    "anxiety = pd.read_csv('/home/anopsy/Code/hackher/data/anxiety.csv')\n",
    "depression = pd.read_csv('/home/anopsy/Code/hackher/data/depression.csv')\n",
    "control = pd.read_csv('/home/anopsy/Code/hackher/data/control.csv')"
   ]
  },
  {
   "cell_type": "code",
   "execution_count": 3,
   "id": "100c62ca-d1a7-4afe-8795-cb1d260d0e21",
   "metadata": {},
   "outputs": [
    {
     "data": {
      "text/plain": [
       "(3230, 1)"
      ]
     },
     "execution_count": 3,
     "metadata": {},
     "output_type": "execute_result"
    }
   ],
   "source": [
    "masking.shape"
   ]
  },
  {
   "cell_type": "code",
   "execution_count": 4,
   "id": "7694d581-ad61-44c8-962f-a7b611e3b959",
   "metadata": {},
   "outputs": [
    {
     "data": {
      "text/plain": [
       "(2636, 1)"
      ]
     },
     "execution_count": 4,
     "metadata": {},
     "output_type": "execute_result"
    }
   ],
   "source": [
    "anxiety.shape"
   ]
  },
  {
   "cell_type": "code",
   "execution_count": 5,
   "id": "ffaf58ab-e20d-44c7-afcd-3a79cd986e97",
   "metadata": {},
   "outputs": [
    {
     "data": {
      "text/plain": [
       "(2236, 1)"
      ]
     },
     "execution_count": 5,
     "metadata": {},
     "output_type": "execute_result"
    }
   ],
   "source": [
    "depression.shape"
   ]
  },
  {
   "cell_type": "code",
   "execution_count": 6,
   "id": "d3b38aba-11bd-44e6-add3-b16d9c40bcb8",
   "metadata": {},
   "outputs": [
    {
     "data": {
      "text/plain": [
       "(2685, 1)"
      ]
     },
     "execution_count": 6,
     "metadata": {},
     "output_type": "execute_result"
    }
   ],
   "source": [
    "control.shape"
   ]
  },
  {
   "cell_type": "code",
   "execution_count": null,
   "id": "30737164-ed0f-44c6-9af8-90926c023d22",
   "metadata": {},
   "outputs": [],
   "source": []
  },
  {
   "cell_type": "raw",
   "id": "f36c9e73-8096-4f43-82a6-5003adc1489c",
   "metadata": {},
   "source": [
    "comments = [\"masking\", \"anxiety\", \"depression\", \"control\"]"
   ]
  },
  {
   "cell_type": "code",
   "execution_count": 7,
   "id": "97aebf39-ded9-4403-8f55-7108d971dcaf",
   "metadata": {},
   "outputs": [
    {
     "data": {
      "text/plain": [
       "(3230, 1)"
      ]
     },
     "execution_count": 7,
     "metadata": {},
     "output_type": "execute_result"
    }
   ],
   "source": [
    "masking.shape"
   ]
  },
  {
   "cell_type": "code",
   "execution_count": 8,
   "id": "a7ea5b59-6ef9-464a-be99-15e71479d272",
   "metadata": {},
   "outputs": [
    {
     "data": {
      "text/plain": [
       "(2636, 1)"
      ]
     },
     "execution_count": 8,
     "metadata": {},
     "output_type": "execute_result"
    }
   ],
   "source": [
    "anxiety.shape"
   ]
  },
  {
   "cell_type": "code",
   "execution_count": 9,
   "id": "3b281268-3b67-4f46-b7d5-6daff6c2c7fe",
   "metadata": {},
   "outputs": [
    {
     "data": {
      "text/plain": [
       "(2236, 1)"
      ]
     },
     "execution_count": 9,
     "metadata": {},
     "output_type": "execute_result"
    }
   ],
   "source": [
    "depression.shape"
   ]
  },
  {
   "cell_type": "code",
   "execution_count": 10,
   "id": "95773769-2fe2-4893-a300-40d2f1cf6310",
   "metadata": {},
   "outputs": [
    {
     "data": {
      "text/plain": [
       "(2685, 1)"
      ]
     },
     "execution_count": 10,
     "metadata": {},
     "output_type": "execute_result"
    }
   ],
   "source": [
    "control.shape"
   ]
  },
  {
   "cell_type": "code",
   "execution_count": 11,
   "id": "f85c70ef-964e-40c2-83b8-cc72c6a8c893",
   "metadata": {},
   "outputs": [],
   "source": [
    "masking[\"diagnosis\"] = \"masking\"\n",
    "    "
   ]
  },
  {
   "cell_type": "code",
   "execution_count": 12,
   "id": "eefbdccd-2da3-476d-9daa-82add0beeb4b",
   "metadata": {},
   "outputs": [],
   "source": [
    "anxiety[\"diagnosis\"] = \"anxiety\"\n",
    "depression[\"diagnosis\"] = \"depression\"\n",
    "control[\"diagnosis\"] = \"control\""
   ]
  },
  {
   "cell_type": "code",
   "execution_count": 13,
   "id": "12257981-1883-4cc4-b2c7-4b493063bc95",
   "metadata": {},
   "outputs": [
    {
     "data": {
      "text/plain": [
       "Index(['Comment', 'diagnosis'], dtype='object')"
      ]
     },
     "execution_count": 13,
     "metadata": {},
     "output_type": "execute_result"
    }
   ],
   "source": [
    "masking.columns"
   ]
  },
  {
   "cell_type": "code",
   "execution_count": 14,
   "id": "7c495951-50ad-4d66-b717-82c1afe80cc8",
   "metadata": {},
   "outputs": [
    {
     "data": {
      "text/plain": [
       "<bound method NDFrame.head of                                                 Comment diagnosis\n",
       "0     Please do not comment directly to this post un...   control\n",
       "1     1. sleep just a little bit more than you think...   control\n",
       "2     **20/40/60 rule**\\n\\nWhen you're 20, you care ...   control\n",
       "3       Listening is much more important than speaking.   control\n",
       "4     You can't save someone who isn't actively tryi...   control\n",
       "...                                                 ...       ...\n",
       "2680                       Weird attracts weird bro ✌️👽   control\n",
       "2681                         Get back out there brother   control\n",
       "2682                             Nope, it’s from a book   control\n",
       "2683  You gotta do it! I can’t describe the feeling ...   control\n",
       "2684                                                how   control\n",
       "\n",
       "[2685 rows x 2 columns]>"
      ]
     },
     "execution_count": 14,
     "metadata": {},
     "output_type": "execute_result"
    }
   ],
   "source": [
    "control.head"
   ]
  },
  {
   "cell_type": "code",
   "execution_count": 15,
   "id": "90ee702e-15de-4af9-9093-7ac8dc968b92",
   "metadata": {},
   "outputs": [],
   "source": [
    "masking['Comment'] = masking['Comment'].str.replace('autism', '')\n",
    "masking['Comment'] = masking['Comment'].str.replace('autistic', '')\n",
    "masking['Comment'] = masking['Comment'].str.replace('masking', '')\n",
    "masking['Comment'] = masking['Comment'].str.replace('spectrum', '')\n"
   ]
  },
  {
   "cell_type": "code",
   "execution_count": 16,
   "id": "7cbc0778-7299-4373-9df6-ba915f5eca67",
   "metadata": {},
   "outputs": [],
   "source": [
    "anxiety['Comment'] = anxiety['Comment'].str.replace('anxiety', '')\n",
    "anxiety['Comment'] = anxiety['Comment'].str.replace('anxious', '')\n"
   ]
  },
  {
   "cell_type": "code",
   "execution_count": 17,
   "id": "15325772-5c9a-4d70-83ef-d760cb4bee30",
   "metadata": {},
   "outputs": [],
   "source": [
    "depression['Comment'] = depression['Comment'].str.replace('depression', '')\n",
    "depression['Comment'] = depression['Comment'].str.replace('depressed', '')"
   ]
  },
  {
   "cell_type": "code",
   "execution_count": 18,
   "id": "411c8710-836a-4167-8135-ea7a6dc2dd18",
   "metadata": {},
   "outputs": [],
   "source": [
    "df = pd.concat([masking, anxiety, depression, control], axis=0, ignore_index=True)"
   ]
  },
  {
   "cell_type": "code",
   "execution_count": 19,
   "id": "93d10cd1-b171-4430-8344-3116be81c734",
   "metadata": {},
   "outputs": [
    {
     "data": {
      "text/plain": [
       "<bound method NDFrame.head of                                                  Comment diagnosis\n",
       "0      Essentially it is  your  traits in order to fi...   masking\n",
       "1      Autistic people behave in certain ways that ar...   masking\n",
       "2      Neurotypical people tend to be uncomfortable a...   masking\n",
       "3      You know how you put a high-powered graphics c...   masking\n",
       "4      Basically it's when someone who is  suppresses...   masking\n",
       "...                                                  ...       ...\n",
       "10782                       Weird attracts weird bro ✌️👽   control\n",
       "10783                         Get back out there brother   control\n",
       "10784                             Nope, it’s from a book   control\n",
       "10785  You gotta do it! I can’t describe the feeling ...   control\n",
       "10786                                                how   control\n",
       "\n",
       "[10787 rows x 2 columns]>"
      ]
     },
     "execution_count": 19,
     "metadata": {},
     "output_type": "execute_result"
    }
   ],
   "source": [
    "df.head"
   ]
  },
  {
   "cell_type": "code",
   "execution_count": 20,
   "id": "85290ea1-c775-49ef-8f86-32b1a83bf2df",
   "metadata": {},
   "outputs": [
    {
     "data": {
      "text/plain": [
       "Index(['Comment', 'diagnosis'], dtype='object')"
      ]
     },
     "execution_count": 20,
     "metadata": {},
     "output_type": "execute_result"
    }
   ],
   "source": [
    "df.columns"
   ]
  },
  {
   "cell_type": "code",
   "execution_count": 21,
   "id": "af714357-e95c-4da9-a514-2ed07a21087e",
   "metadata": {},
   "outputs": [
    {
     "name": "stdout",
     "output_type": "stream",
     "text": [
      "Defaulting to user installation because normal site-packages is not writeable\n",
      "Requirement already satisfied: nltk in /home/anopsy/.local/lib/python3.10/site-packages (3.8.1)\n",
      "Requirement already satisfied: click in /usr/lib/python3/dist-packages (from nltk) (8.0.3)\n",
      "Requirement already satisfied: joblib in /usr/local/lib/python3.10/dist-packages (from nltk) (1.3.2)\n",
      "Requirement already satisfied: regex>=2021.8.3 in /home/anopsy/.local/lib/python3.10/site-packages (from nltk) (2023.12.25)\n",
      "Requirement already satisfied: tqdm in /home/anopsy/.local/lib/python3.10/site-packages (from nltk) (4.66.2)\n",
      "Note: you may need to restart the kernel to use updated packages.\n"
     ]
    }
   ],
   "source": [
    "%pip install nltk"
   ]
  },
  {
   "cell_type": "code",
   "execution_count": 22,
   "id": "c029ec85-c35a-4057-8629-f67f362b3594",
   "metadata": {},
   "outputs": [],
   "source": [
    "import pandas as pd\n",
    "import nltk\n",
    "import re\n",
    "from nltk.corpus import stopwords\n",
    "from nltk.stem import WordNetLemmatizer\n"
   ]
  },
  {
   "cell_type": "code",
   "execution_count": 23,
   "id": "8bc367ca-0ed5-4cbd-b37b-16e602e35ddf",
   "metadata": {},
   "outputs": [
    {
     "name": "stderr",
     "output_type": "stream",
     "text": [
      "[nltk_data] Downloading package stopwords to /home/anopsy/nltk_data...\n",
      "[nltk_data]   Package stopwords is already up-to-date!\n"
     ]
    },
    {
     "data": {
      "text/plain": [
       "True"
      ]
     },
     "execution_count": 23,
     "metadata": {},
     "output_type": "execute_result"
    }
   ],
   "source": [
    "# Download the NLTK stop words\n",
    "nltk.download('stopwords')"
   ]
  },
  {
   "cell_type": "code",
   "execution_count": 24,
   "id": "24412d04-ae4d-429b-a529-3b7ce8430523",
   "metadata": {},
   "outputs": [
    {
     "name": "stderr",
     "output_type": "stream",
     "text": [
      "[nltk_data] Downloading package wordnet to /home/anopsy/nltk_data...\n",
      "[nltk_data]   Package wordnet is already up-to-date!\n"
     ]
    },
    {
     "data": {
      "text/plain": [
       "True"
      ]
     },
     "execution_count": 24,
     "metadata": {},
     "output_type": "execute_result"
    }
   ],
   "source": [
    "# Download the NLTK lemmatizer dictionary\n",
    "nltk.download('wordnet')"
   ]
  },
  {
   "cell_type": "code",
   "execution_count": 25,
   "id": "ec2029c5-b7a8-438f-bdbe-56aba16b2c91",
   "metadata": {},
   "outputs": [],
   "source": [
    "# Create a lemmatizer object\n",
    "lemmatizer = WordNetLemmatizer()"
   ]
  },
  {
   "cell_type": "code",
   "execution_count": 26,
   "id": "25523e60-4b8c-4f26-9e29-2cdf068cb388",
   "metadata": {},
   "outputs": [],
   "source": [
    "\n",
    "# Define a function to preprocess text\n",
    "def preprocess_text(text):\n",
    "    # Remove non-alphabetic characters\n",
    "    text = re.sub('[^a-zA-Z]', ' ', text)\n",
    "    \n",
    "    # Convert all words to lower case\n",
    "    text = text.lower()\n",
    "    \n",
    "    # Split the text into words\n",
    "    words = text.split()\n",
    "    \n",
    "    # Remove stop words\n",
    "    words = [word for word in words if word not in set(stopwords.words('english'))]\n",
    "    \n",
    "    # Lemmatize words\n",
    "    words = [lemmatizer.lemmatize(word) for word in words]\n",
    "    \n",
    "    # Join words back into a single string\n",
    "    text = ' '.join(words)\n",
    "    \n",
    "    return text\n"
   ]
  },
  {
   "cell_type": "code",
   "execution_count": 27,
   "id": "49d6e81d-9b8e-4dd2-b066-67dd8a944aab",
   "metadata": {},
   "outputs": [],
   "source": [
    "# Apply the preprocessing function to the 'text' column\n",
    "df['Comment'] = df['Comment'].apply(preprocess_text)"
   ]
  },
  {
   "cell_type": "code",
   "execution_count": 28,
   "id": "981ac635-9ab6-45ac-9792-8d416869bfc8",
   "metadata": {},
   "outputs": [
    {
     "data": {
      "text/plain": [
       "<bound method NDFrame.head of                                                  Comment diagnosis\n",
       "0      essentially trait order fit prevalent older pe...   masking\n",
       "1      autistic people behave certain way obvious non...   masking\n",
       "2      neurotypical people tend uncomfortable around ...   masking\n",
       "3      know put high powered graphic card computer pl...   masking\n",
       "4      basically someone suppresses trait always poss...   masking\n",
       "...                                                  ...       ...\n",
       "10782                           weird attracts weird bro   control\n",
       "10783                                   get back brother   control\n",
       "10784                                          nope book   control\n",
       "10785  gotta describe feeling hear drum stick hit dru...   control\n",
       "10786                                                      control\n",
       "\n",
       "[10787 rows x 2 columns]>"
      ]
     },
     "execution_count": 28,
     "metadata": {},
     "output_type": "execute_result"
    }
   ],
   "source": [
    "df.head"
   ]
  },
  {
   "cell_type": "code",
   "execution_count": 29,
   "id": "9dfe9cc0-4811-4f8b-bcc8-bfd7df01d63a",
   "metadata": {},
   "outputs": [],
   "source": [
    "# Remove rows where the 'Comment' column has fewer than 6 words\n",
    "df = df[df['Comment'].str.split().str.len() >= 6]"
   ]
  },
  {
   "cell_type": "code",
   "execution_count": 30,
   "id": "24d7f6b9-3aab-4099-8e83-e25c3b504f23",
   "metadata": {},
   "outputs": [
    {
     "name": "stderr",
     "output_type": "stream",
     "text": [
      "/tmp/ipykernel_7409/2348831484.py:1: SettingWithCopyWarning: \n",
      "A value is trying to be set on a copy of a slice from a DataFrame.\n",
      "Try using .loc[row_indexer,col_indexer] = value instead\n",
      "\n",
      "See the caveats in the documentation: https://pandas.pydata.org/pandas-docs/stable/user_guide/indexing.html#returning-a-view-versus-a-copy\n",
      "  df['len'] = df['Comment'].str.split().str.len()\n"
     ]
    }
   ],
   "source": [
    "df['len'] = df['Comment'].str.split().str.len()"
   ]
  },
  {
   "cell_type": "code",
   "execution_count": 31,
   "id": "1293fc3a-8656-45f8-8275-bb100e625a2d",
   "metadata": {},
   "outputs": [
    {
     "data": {
      "text/plain": [
       "<bound method NDFrame.head of                                                  Comment diagnosis  len\n",
       "0      essentially trait order fit prevalent older pe...   masking   72\n",
       "1      autistic people behave certain way obvious non...   masking   96\n",
       "2      neurotypical people tend uncomfortable around ...   masking   17\n",
       "3      know put high powered graphic card computer pl...   masking   88\n",
       "4      basically someone suppresses trait always poss...   masking   16\n",
       "...                                                  ...       ...  ...\n",
       "10773  fuck yeah need meet people like used weird wil...   control   24\n",
       "10776  still kicking seen idea amazing sign year much...   control   14\n",
       "10780  thank actually sound like something try absolu...   control   13\n",
       "10781  athletic competitive person activity find phys...   control  102\n",
       "10785  gotta describe feeling hear drum stick hit dru...   control   14\n",
       "\n",
       "[7884 rows x 3 columns]>"
      ]
     },
     "execution_count": 31,
     "metadata": {},
     "output_type": "execute_result"
    }
   ],
   "source": [
    "df.head"
   ]
  },
  {
   "cell_type": "code",
   "execution_count": 32,
   "id": "7ef3f4b2-c30a-4b27-a8cd-f78e2d2d7481",
   "metadata": {},
   "outputs": [
    {
     "data": {
      "text/plain": [
       "<Axes: ylabel='Frequency'>"
      ]
     },
     "execution_count": 32,
     "metadata": {},
     "output_type": "execute_result"
    },
    {
     "data": {
      "image/png": "[encoded data removed]",
      "text/plain": [
       "<Figure size 640x480 with 1 Axes>"
      ]
     },
     "metadata": {},
     "output_type": "display_data"
    }
   ],
   "source": [
    "df['len'].plot.hist(bins=20)\n"
   ]
  },
  {
   "cell_type": "code",
   "execution_count": 33,
   "id": "e1de9293-5e0b-4025-a3c2-77ea023d2a36",
   "metadata": {},
   "outputs": [],
   "source": [
    "df = df[df['Comment'].str.split().str.len() <= 200]"
   ]
  },
  {
   "cell_type": "code",
   "execution_count": 34,
   "id": "1f7e64dc-1379-4b92-93d6-a9aba3b75386",
   "metadata": {},
   "outputs": [
    {
     "data": {
      "text/plain": [
       "(7789, 3)"
      ]
     },
     "execution_count": 34,
     "metadata": {},
     "output_type": "execute_result"
    }
   ],
   "source": [
    "df.shape"
   ]
  },
  {
   "cell_type": "code",
   "execution_count": 46,
   "id": "c5e9166b-49d4-4d25-a393-b11687bff70a",
   "metadata": {},
   "outputs": [],
   "source": [
    "from sklearn.feature_extraction.text import TfidfVectorizer"
   ]
  },
  {
   "cell_type": "code",
   "execution_count": 47,
   "id": "a5f41a7b-fce9-4f4c-84f9-1ac8533e8df4",
   "metadata": {},
   "outputs": [],
   "source": [
    "# Extract features\n",
    "vectorizer = TfidfVectorizer()\n",
    "X = vectorizer.fit_transform(df['Comment'])"
   ]
  },
  {
   "cell_type": "code",
   "execution_count": 103,
   "id": "f64a23c0-de99-470c-9448-bf9f0797e270",
   "metadata": {},
   "outputs": [],
   "source": [
    "df.to_csv('all_comments.csv')"
   ]
  },
  {
   "cell_type": "code",
   "execution_count": 48,
   "id": "15f36e43-daf5-494a-ad88-9f0c408fb3b3",
   "metadata": {},
   "outputs": [],
   "source": [
    "# Split data into training and test sets\n",
    "X_train, X_test, y_train, y_test = train_test_split(X, df['diagnosis'], test_size=0.2, random_state=66)"
   ]
  },
  {
   "cell_type": "code",
   "execution_count": 49,
   "id": "3da2d0ce-55b6-4ca4-ba5e-71fc746b66d4",
   "metadata": {},
   "outputs": [
    {
     "name": "stderr",
     "output_type": "stream",
     "text": [
      "/usr/local/lib/python3.10/dist-packages/sklearn/svm/_classes.py:31: FutureWarning: The default value of `dual` will change from `True` to `'auto'` in 1.5. Set the value of `dual` explicitly to suppress the warning.\n",
      "  warnings.warn(\n"
     ]
    },
    {
     "data": {
      "text/html": [
       "<style>#sk-container-id-2 {\n",
       "  /* Definition of color scheme common for light and dark mode */\n",
       "  --sklearn-color-text: black;\n",
       "  --sklearn-color-line: gray;\n",
       "  /* Definition of color scheme for unfitted estimators */\n",
       "  --sklearn-color-unfitted-level-0: #fff5e6;\n",
       "  --sklearn-color-unfitted-level-1: #f6e4d2;\n",
       "  --sklearn-color-unfitted-level-2: #ffe0b3;\n",
       "  --sklearn-color-unfitted-level-3: chocolate;\n",
       "  /* Definition of color scheme for fitted estimators */\n",
       "  --sklearn-color-fitted-level-0: #f0f8ff;\n",
       "  --sklearn-color-fitted-level-1: #d4ebff;\n",
       "  --sklearn-color-fitted-level-2: #b3dbfd;\n",
       "  --sklearn-color-fitted-level-3: cornflowerblue;\n",
       "\n",
       "  /* Specific color for light theme */\n",
       "  --sklearn-color-text-on-default-background: var(--sg-text-color, var(--theme-code-foreground, var(--jp-content-font-color1, black)));\n",
       "  --sklearn-color-background: var(--sg-background-color, var(--theme-background, var(--jp-layout-color0, white)));\n",
       "  --sklearn-color-border-box: var(--sg-text-color, var(--theme-code-foreground, var(--jp-content-font-color1, black)));\n",
       "  --sklearn-color-icon: #696969;\n",
       "\n",
       "  @media (prefers-color-scheme: dark) {\n",
       "    /* Redefinition of color scheme for dark theme */\n",
       "    --sklearn-color-text-on-default-background: var(--sg-text-color, var(--theme-code-foreground, var(--jp-content-font-color1, white)));\n",
       "    --sklearn-color-background: var(--sg-background-color, var(--theme-background, var(--jp-layout-color0, #111)));\n",
       "    --sklearn-color-border-box: var(--sg-text-color, var(--theme-code-foreground, var(--jp-content-font-color1, white)));\n",
       "    --sklearn-color-icon: #878787;\n",
       "  }\n",
       "}\n",
       "\n",
       "#sk-container-id-2 {\n",
       "  color: var(--sklearn-color-text);\n",
       "}\n",
       "\n",
       "#sk-container-id-2 pre {\n",
       "  padding: 0;\n",
       "}\n",
       "\n",
       "#sk-container-id-2 input.sk-hidden--visually {\n",
       "  border: 0;\n",
       "  clip: rect(1px 1px 1px 1px);\n",
       "  clip: rect(1px, 1px, 1px, 1px);\n",
       "  height: 1px;\n",
       "  margin: -1px;\n",
       "  overflow: hidden;\n",
       "  padding: 0;\n",
       "  position: absolute;\n",
       "  width: 1px;\n",
       "}\n",
       "\n",
       "#sk-container-id-2 div.sk-dashed-wrapped {\n",
       "  border: 1px dashed var(--sklearn-color-line);\n",
       "  margin: 0 0.4em 0.5em 0.4em;\n",
       "  box-sizing: border-box;\n",
       "  padding-bottom: 0.4em;\n",
       "  background-color: var(--sklearn-color-background);\n",
       "}\n",
       "\n",
       "#sk-container-id-2 div.sk-container {\n",
       "  /* jupyter's `normalize.less` sets `[hidden] { display: none; }`\n",
       "     but bootstrap.min.css set `[hidden] { display: none !important; }`\n",
       "     so we also need the `!important` here to be able to override the\n",
       "     default hidden behavior on the sphinx rendered scikit-learn.org.\n",
       "     See: https://github.com/scikit-learn/scikit-learn/issues/21755 */\n",
       "  display: inline-block !important;\n",
       "  position: relative;\n",
       "}\n",
       "\n",
       "#sk-container-id-2 div.sk-text-repr-fallback {\n",
       "  display: none;\n",
       "}\n",
       "\n",
       "div.sk-parallel-item,\n",
       "div.sk-serial,\n",
       "div.sk-item {\n",
       "  /* draw centered vertical line to link estimators */\n",
       "  background-image: linear-gradient(var(--sklearn-color-text-on-default-background), var(--sklearn-color-text-on-default-background));\n",
       "  background-size: 2px 100%;\n",
       "  background-repeat: no-repeat;\n",
       "  background-position: center center;\n",
       "}\n",
       "\n",
       "/* Parallel-specific style estimator block */\n",
       "\n",
       "#sk-container-id-2 div.sk-parallel-item::after {\n",
       "  content: \"\";\n",
       "  width: 100%;\n",
       "  border-bottom: 2px solid var(--sklearn-color-text-on-default-background);\n",
       "  flex-grow: 1;\n",
       "}\n",
       "\n",
       "#sk-container-id-2 div.sk-parallel {\n",
       "  display: flex;\n",
       "  align-items: stretch;\n",
       "  justify-content: center;\n",
       "  background-color: var(--sklearn-color-background);\n",
       "  position: relative;\n",
       "}\n",
       "\n",
       "#sk-container-id-2 div.sk-parallel-item {\n",
       "  display: flex;\n",
       "  flex-direction: column;\n",
       "}\n",
       "\n",
       "#sk-container-id-2 div.sk-parallel-item:first-child::after {\n",
       "  align-self: flex-end;\n",
       "  width: 50%;\n",
       "}\n",
       "\n",
       "#sk-container-id-2 div.sk-parallel-item:last-child::after {\n",
       "  align-self: flex-start;\n",
       "  width: 50%;\n",
       "}\n",
       "\n",
       "#sk-container-id-2 div.sk-parallel-item:only-child::after {\n",
       "  width: 0;\n",
       "}\n",
       "\n",
       "/* Serial-specific style estimator block */\n",
       "\n",
       "#sk-container-id-2 div.sk-serial {\n",
       "  display: flex;\n",
       "  flex-direction: column;\n",
       "  align-items: center;\n",
       "  background-color: var(--sklearn-color-background);\n",
       "  padding-right: 1em;\n",
       "  padding-left: 1em;\n",
       "}\n",
       "\n",
       "\n",
       "/* Toggleable style: style used for estimator/Pipeline/ColumnTransformer box that is\n",
       "clickable and can be expanded/collapsed.\n",
       "- Pipeline and ColumnTransformer use this feature and define the default style\n",
       "- Estimators will overwrite some part of the style using the `sk-estimator` class\n",
       "*/\n",
       "\n",
       "/* Pipeline and ColumnTransformer style (default) */\n",
       "\n",
       "#sk-container-id-2 div.sk-toggleable {\n",
       "  /* Default theme specific background. It is overwritten whether we have a\n",
       "  specific estimator or a Pipeline/ColumnTransformer */\n",
       "  background-color: var(--sklearn-color-background);\n",
       "}\n",
       "\n",
       "/* Toggleable label */\n",
       "#sk-container-id-2 label.sk-toggleable__label {\n",
       "  cursor: pointer;\n",
       "  display: block;\n",
       "  width: 100%;\n",
       "  margin-bottom: 0;\n",
       "  padding: 0.5em;\n",
       "  box-sizing: border-box;\n",
       "  text-align: center;\n",
       "}\n",
       "\n",
       "#sk-container-id-2 label.sk-toggleable__label-arrow:before {\n",
       "  /* Arrow on the left of the label */\n",
       "  content: \"▸\";\n",
       "  float: left;\n",
       "  margin-right: 0.25em;\n",
       "  color: var(--sklearn-color-icon);\n",
       "}\n",
       "\n",
       "#sk-container-id-2 label.sk-toggleable__label-arrow:hover:before {\n",
       "  color: var(--sklearn-color-text);\n",
       "}\n",
       "\n",
       "/* Toggleable content - dropdown */\n",
       "\n",
       "#sk-container-id-2 div.sk-toggleable__content {\n",
       "  max-height: 0;\n",
       "  max-width: 0;\n",
       "  overflow: hidden;\n",
       "  text-align: left;\n",
       "  /* unfitted */\n",
       "  background-color: var(--sklearn-color-unfitted-level-0);\n",
       "}\n",
       "\n",
       "#sk-container-id-2 div.sk-toggleable__content.fitted {\n",
       "  /* fitted */\n",
       "  background-color: var(--sklearn-color-fitted-level-0);\n",
       "}\n",
       "\n",
       "#sk-container-id-2 div.sk-toggleable__content pre {\n",
       "  margin: 0.2em;\n",
       "  border-radius: 0.25em;\n",
       "  color: var(--sklearn-color-text);\n",
       "  /* unfitted */\n",
       "  background-color: var(--sklearn-color-unfitted-level-0);\n",
       "}\n",
       "\n",
       "#sk-container-id-2 div.sk-toggleable__content.fitted pre {\n",
       "  /* unfitted */\n",
       "  background-color: var(--sklearn-color-fitted-level-0);\n",
       "}\n",
       "\n",
       "#sk-container-id-2 input.sk-toggleable__control:checked~div.sk-toggleable__content {\n",
       "  /* Expand drop-down */\n",
       "  max-height: 200px;\n",
       "  max-width: 100%;\n",
       "  overflow: auto;\n",
       "}\n",
       "\n",
       "#sk-container-id-2 input.sk-toggleable__control:checked~label.sk-toggleable__label-arrow:before {\n",
       "  content: \"▾\";\n",
       "}\n",
       "\n",
       "/* Pipeline/ColumnTransformer-specific style */\n",
       "\n",
       "#sk-container-id-2 div.sk-label input.sk-toggleable__control:checked~label.sk-toggleable__label {\n",
       "  color: var(--sklearn-color-text);\n",
       "  background-color: var(--sklearn-color-unfitted-level-2);\n",
       "}\n",
       "\n",
       "#sk-container-id-2 div.sk-label.fitted input.sk-toggleable__control:checked~label.sk-toggleable__label {\n",
       "  background-color: var(--sklearn-color-fitted-level-2);\n",
       "}\n",
       "\n",
       "/* Estimator-specific style */\n",
       "\n",
       "/* Colorize estimator box */\n",
       "#sk-container-id-2 div.sk-estimator input.sk-toggleable__control:checked~label.sk-toggleable__label {\n",
       "  /* unfitted */\n",
       "  background-color: var(--sklearn-color-unfitted-level-2);\n",
       "}\n",
       "\n",
       "#sk-container-id-2 div.sk-estimator.fitted input.sk-toggleable__control:checked~label.sk-toggleable__label {\n",
       "  /* fitted */\n",
       "  background-color: var(--sklearn-color-fitted-level-2);\n",
       "}\n",
       "\n",
       "#sk-container-id-2 div.sk-label label.sk-toggleable__label,\n",
       "#sk-container-id-2 div.sk-label label {\n",
       "  /* The background is the default theme color */\n",
       "  color: var(--sklearn-color-text-on-default-background);\n",
       "}\n",
       "\n",
       "/* On hover, darken the color of the background */\n",
       "#sk-container-id-2 div.sk-label:hover label.sk-toggleable__label {\n",
       "  color: var(--sklearn-color-text);\n",
       "  background-color: var(--sklearn-color-unfitted-level-2);\n",
       "}\n",
       "\n",
       "/* Label box, darken color on hover, fitted */\n",
       "#sk-container-id-2 div.sk-label.fitted:hover label.sk-toggleable__label.fitted {\n",
       "  color: var(--sklearn-color-text);\n",
       "  background-color: var(--sklearn-color-fitted-level-2);\n",
       "}\n",
       "\n",
       "/* Estimator label */\n",
       "\n",
       "#sk-container-id-2 div.sk-label label {\n",
       "  font-family: monospace;\n",
       "  font-weight: bold;\n",
       "  display: inline-block;\n",
       "  line-height: 1.2em;\n",
       "}\n",
       "\n",
       "#sk-container-id-2 div.sk-label-container {\n",
       "  text-align: center;\n",
       "}\n",
       "\n",
       "/* Estimator-specific */\n",
       "#sk-container-id-2 div.sk-estimator {\n",
       "  font-family: monospace;\n",
       "  border: 1px dotted var(--sklearn-color-border-box);\n",
       "  border-radius: 0.25em;\n",
       "  box-sizing: border-box;\n",
       "  margin-bottom: 0.5em;\n",
       "  /* unfitted */\n",
       "  background-color: var(--sklearn-color-unfitted-level-0);\n",
       "}\n",
       "\n",
       "#sk-container-id-2 div.sk-estimator.fitted {\n",
       "  /* fitted */\n",
       "  background-color: var(--sklearn-color-fitted-level-0);\n",
       "}\n",
       "\n",
       "/* on hover */\n",
       "#sk-container-id-2 div.sk-estimator:hover {\n",
       "  /* unfitted */\n",
       "  background-color: var(--sklearn-color-unfitted-level-2);\n",
       "}\n",
       "\n",
       "#sk-container-id-2 div.sk-estimator.fitted:hover {\n",
       "  /* fitted */\n",
       "  background-color: var(--sklearn-color-fitted-level-2);\n",
       "}\n",
       "\n",
       "/* Specification for estimator info (e.g. \"i\" and \"?\") */\n",
       "\n",
       "/* Common style for \"i\" and \"?\" */\n",
       "\n",
       ".sk-estimator-doc-link,\n",
       "a:link.sk-estimator-doc-link,\n",
       "a:visited.sk-estimator-doc-link {\n",
       "  float: right;\n",
       "  font-size: smaller;\n",
       "  line-height: 1em;\n",
       "  font-family: monospace;\n",
       "  background-color: var(--sklearn-color-background);\n",
       "  border-radius: 1em;\n",
       "  height: 1em;\n",
       "  width: 1em;\n",
       "  text-decoration: none !important;\n",
       "  margin-left: 1ex;\n",
       "  /* unfitted */\n",
       "  border: var(--sklearn-color-unfitted-level-1) 1pt solid;\n",
       "  color: var(--sklearn-color-unfitted-level-1);\n",
       "}\n",
       "\n",
       ".sk-estimator-doc-link.fitted,\n",
       "a:link.sk-estimator-doc-link.fitted,\n",
       "a:visited.sk-estimator-doc-link.fitted {\n",
       "  /* fitted */\n",
       "  border: var(--sklearn-color-fitted-level-1) 1pt solid;\n",
       "  color: var(--sklearn-color-fitted-level-1);\n",
       "}\n",
       "\n",
       "/* On hover */\n",
       "div.sk-estimator:hover .sk-estimator-doc-link:hover,\n",
       ".sk-estimator-doc-link:hover,\n",
       "div.sk-label-container:hover .sk-estimator-doc-link:hover,\n",
       ".sk-estimator-doc-link:hover {\n",
       "  /* unfitted */\n",
       "  background-color: var(--sklearn-color-unfitted-level-3);\n",
       "  color: var(--sklearn-color-background);\n",
       "  text-decoration: none;\n",
       "}\n",
       "\n",
       "div.sk-estimator.fitted:hover .sk-estimator-doc-link.fitted:hover,\n",
       ".sk-estimator-doc-link.fitted:hover,\n",
       "div.sk-label-container:hover .sk-estimator-doc-link.fitted:hover,\n",
       ".sk-estimator-doc-link.fitted:hover {\n",
       "  /* fitted */\n",
       "  background-color: var(--sklearn-color-fitted-level-3);\n",
       "  color: var(--sklearn-color-background);\n",
       "  text-decoration: none;\n",
       "}\n",
       "\n",
       "/* Span, style for the box shown on hovering the info icon */\n",
       ".sk-estimator-doc-link span {\n",
       "  display: none;\n",
       "  z-index: 9999;\n",
       "  position: relative;\n",
       "  font-weight: normal;\n",
       "  right: .2ex;\n",
       "  padding: .5ex;\n",
       "  margin: .5ex;\n",
       "  width: min-content;\n",
       "  min-width: 20ex;\n",
       "  max-width: 50ex;\n",
       "  color: var(--sklearn-color-text);\n",
       "  box-shadow: 2pt 2pt 4pt #999;\n",
       "  /* unfitted */\n",
       "  background: var(--sklearn-color-unfitted-level-0);\n",
       "  border: .5pt solid var(--sklearn-color-unfitted-level-3);\n",
       "}\n",
       "\n",
       ".sk-estimator-doc-link.fitted span {\n",
       "  /* fitted */\n",
       "  background: var(--sklearn-color-fitted-level-0);\n",
       "  border: var(--sklearn-color-fitted-level-3);\n",
       "}\n",
       "\n",
       ".sk-estimator-doc-link:hover span {\n",
       "  display: block;\n",
       "}\n",
       "\n",
       "/* \"?\"-specific style due to the `<a>` HTML tag */\n",
       "\n",
       "#sk-container-id-2 a.estimator_doc_link {\n",
       "  float: right;\n",
       "  font-size: 1rem;\n",
       "  line-height: 1em;\n",
       "  font-family: monospace;\n",
       "  background-color: var(--sklearn-color-background);\n",
       "  border-radius: 1rem;\n",
       "  height: 1rem;\n",
       "  width: 1rem;\n",
       "  text-decoration: none;\n",
       "  /* unfitted */\n",
       "  color: var(--sklearn-color-unfitted-level-1);\n",
       "  border: var(--sklearn-color-unfitted-level-1) 1pt solid;\n",
       "}\n",
       "\n",
       "#sk-container-id-2 a.estimator_doc_link.fitted {\n",
       "  /* fitted */\n",
       "  border: var(--sklearn-color-fitted-level-1) 1pt solid;\n",
       "  color: var(--sklearn-color-fitted-level-1);\n",
       "}\n",
       "\n",
       "/* On hover */\n",
       "#sk-container-id-2 a.estimator_doc_link:hover {\n",
       "  /* unfitted */\n",
       "  background-color: var(--sklearn-color-unfitted-level-3);\n",
       "  color: var(--sklearn-color-background);\n",
       "  text-decoration: none;\n",
       "}\n",
       "\n",
       "#sk-container-id-2 a.estimator_doc_link.fitted:hover {\n",
       "  /* fitted */\n",
       "  background-color: var(--sklearn-color-fitted-level-3);\n",
       "}\n",
       "</style><div id=\"sk-container-id-2\" class=\"sk-top-container\"><div class=\"sk-text-repr-fallback\"><pre>LinearSVC()</pre><b>In a Jupyter environment, please rerun this cell to show the HTML representation or trust the notebook. <br />On GitHub, the HTML representation is unable to render, please try loading this page with nbviewer.org.</b></div><div class=\"sk-container\" hidden><div class=\"sk-item\"><div class=\"sk-estimator fitted sk-toggleable\"><input class=\"sk-toggleable__control sk-hidden--visually\" id=\"sk-estimator-id-2\" type=\"checkbox\" checked><label for=\"sk-estimator-id-2\" class=\"sk-toggleable__label fitted sk-toggleable__label-arrow fitted\">&nbsp;&nbsp;LinearSVC<a class=\"sk-estimator-doc-link fitted\" rel=\"noreferrer\" target=\"_blank\" href=\"https://scikit-learn.org/1.4/modules/generated/sklearn.svm.LinearSVC.html\">?<span>Documentation for LinearSVC</span></a><span class=\"sk-estimator-doc-link fitted\">i<span>Fitted</span></span></label><div class=\"sk-toggleable__content fitted\"><pre>LinearSVC()</pre></div> </div></div></div></div>"
      ],
      "text/plain": [
       "LinearSVC()"
      ]
     },
     "execution_count": 49,
     "metadata": {},
     "output_type": "execute_result"
    }
   ],
   "source": [
    "# Train model\n",
    "model = LinearSVC()\n",
    "model.fit(X_train, y_train)"
   ]
  },
  {
   "cell_type": "code",
   "execution_count": 50,
   "id": "0a181d87-c3d8-4074-8063-bfcc96b25a46",
   "metadata": {},
   "outputs": [
    {
     "name": "stdout",
     "output_type": "stream",
     "text": [
      "              precision    recall  f1-score   support\n",
      "\n",
      "     anxiety       0.73      0.72      0.73       381\n",
      "     control       0.71      0.68      0.69       343\n",
      "  depression       0.77      0.71      0.74       352\n",
      "     masking       0.73      0.81      0.77       482\n",
      "\n",
      "    accuracy                           0.74      1558\n",
      "   macro avg       0.74      0.73      0.73      1558\n",
      "weighted avg       0.74      0.74      0.74      1558\n",
      "\n"
     ]
    }
   ],
   "source": [
    "# Evaluate model\n",
    "y_pred = model.predict(X_test)\n",
    "print(classification_report(y_test, y_pred))"
   ]
  },
  {
   "cell_type": "code",
   "execution_count": 51,
   "id": "2df005b1-d53b-4ed2-9c3f-afebd53969a9",
   "metadata": {},
   "outputs": [],
   "source": [
    "from joblib import dump, load"
   ]
  },
  {
   "cell_type": "code",
   "execution_count": 52,
   "id": "82e64ed6-9eb0-4e16-ad28-bb2a81a75275",
   "metadata": {},
   "outputs": [
    {
     "data": {
      "text/plain": [
       "['baselineSVC_model.joblib']"
      ]
     },
     "execution_count": 52,
     "metadata": {},
     "output_type": "execute_result"
    }
   ],
   "source": [
    "dump(model, 'baselineSVC_model.joblib') "
   ]
  },
  {
   "cell_type": "code",
   "execution_count": 53,
   "id": "b9c65a91-4043-451f-9876-5def889b2432",
   "metadata": {},
   "outputs": [],
   "source": [
    "loaded_model = load('/home/anopsy/Code/hackher/model/baselineSVC_model.joblib')"
   ]
  },
  {
   "cell_type": "code",
   "execution_count": 54,
   "id": "18324434-1717-418a-a575-a4d69933d1bd",
   "metadata": {},
   "outputs": [
    {
     "name": "stdin",
     "output_type": "stream",
     "text": [
      "What is your experience?  I struggle with small talk so I'm often trying to remember what other people were asking or talking about during small talk and I later use same questions or topics\n"
     ]
    },
    {
     "name": "stdout",
     "output_type": "stream",
     "text": [
      "\n"
     ]
    }
   ],
   "source": [
    "experience = input('What is your experience?')\n",
    "print(\"\")"
   ]
  },
  {
   "cell_type": "code",
   "execution_count": null,
   "id": "752953d8-3a4e-4296-88f1-363b375479d7",
   "metadata": {},
   "outputs": [],
   "source": []
  },
  {
   "cell_type": "code",
   "execution_count": 59,
   "id": "dbad4fd6-2812-4e99-a421-3cb57a35e9f1",
   "metadata": {},
   "outputs": [],
   "source": [
    "exp_df = pd.DataFrame([experience])\n"
   ]
  },
  {
   "cell_type": "code",
   "execution_count": 60,
   "id": "10a39e3d-68ad-4244-823b-112fb557c03e",
   "metadata": {},
   "outputs": [
    {
     "data": {
      "text/plain": [
       "RangeIndex(start=0, stop=1, step=1)"
      ]
     },
     "execution_count": 60,
     "metadata": {},
     "output_type": "execute_result"
    }
   ],
   "source": [
    "exp_df.columns"
   ]
  },
  {
   "cell_type": "code",
   "execution_count": 61,
   "id": "138efb5d-64b4-476e-8700-5ad51788b6fb",
   "metadata": {},
   "outputs": [],
   "source": [
    "\n",
    "vector_input = vectorizer.transform(exp_df[0])"
   ]
  },
  {
   "cell_type": "code",
   "execution_count": 62,
   "id": "c758f5b4-8822-41a5-b2b3-9bb31c62eb75",
   "metadata": {},
   "outputs": [
    {
     "name": "stdout",
     "output_type": "stream",
     "text": [
      "['masking']\n"
     ]
    }
   ],
   "source": [
    "prediction = loaded_model.predict(vector_input)\n",
    "print(prediction)"
   ]
  },
  {
   "cell_type": "code",
   "execution_count": 64,
   "id": "c778a1c3-149b-4d70-8a1d-117ffe8b5499",
   "metadata": {},
   "outputs": [
    {
     "name": "stdout",
     "output_type": "stream",
     "text": [
      "Defaulting to user installation because normal site-packages is not writeable\n",
      "Collecting xgboost\n",
      "  Downloading xgboost-2.0.3-py3-none-manylinux2014_x86_64.whl.metadata (2.0 kB)\n",
      "Requirement already satisfied: numpy in /home/anopsy/.local/lib/python3.10/site-packages (from xgboost) (1.26.4)\n",
      "Requirement already satisfied: scipy in /usr/local/lib/python3.10/dist-packages (from xgboost) (1.12.0)\n",
      "Downloading xgboost-2.0.3-py3-none-manylinux2014_x86_64.whl (297.1 MB)\n",
      "\u001b[2K   \u001b[38;2;114;156;31m━━━━━━━━━━━━━━━━━━━━━━━━━━━━━━━━━━━━━━━━\u001b[0m \u001b[32m297.1/297.1 MB\u001b[0m \u001b[31m4.5 MB/s\u001b[0m eta \u001b[36m0:00:00\u001b[0mm eta \u001b[36m0:00:01\u001b[0m[36m0:00:02\u001b[0m\n",
      "\u001b[?25hInstalling collected packages: xgboost\n",
      "Successfully installed xgboost-2.0.3\n",
      "Note: you may need to restart the kernel to use updated packages.\n"
     ]
    }
   ],
   "source": [
    "%pip install xgboost"
   ]
  },
  {
   "cell_type": "code",
   "execution_count": 66,
   "id": "3887253d-1cf1-41ff-a57e-d22785fe8cf3",
   "metadata": {},
   "outputs": [],
   "source": [
    "from sklearn.preprocessing import LabelEncoder \n",
    "import xgboost as xgb\n",
    "from sklearn.metrics import confusion_matrix, classification_report, accuracy_score\n",
    "from sklearn.model_selection import train_test_split, StratifiedKFold, RandomizedSearchCV"
   ]
  },
  {
   "cell_type": "code",
   "execution_count": 67,
   "id": "b22ee48c-f3ea-4467-b99a-040146e76e55",
   "metadata": {},
   "outputs": [],
   "source": [
    "le = LabelEncoder()\n",
    "y = le.fit_transform(df['diagnosis'])"
   ]
  },
  {
   "cell_type": "code",
   "execution_count": 68,
   "id": "7510eb90-9ac6-4f95-9747-8718a6dadf91",
   "metadata": {},
   "outputs": [],
   "source": [
    "X = vectorizer.fit_transform(df['Comment'])"
   ]
  },
  {
   "cell_type": "code",
   "execution_count": 69,
   "id": "6dc8b9de-fcb4-4305-9710-a90378e2b069",
   "metadata": {},
   "outputs": [],
   "source": [
    "# Split data into training and test sets\n",
    "X_train, X_test, y_train, y_test = train_test_split(X, y, test_size=0.2, random_state=66)"
   ]
  },
  {
   "cell_type": "code",
   "execution_count": 87,
   "id": "3d9d8f83-35b2-4686-ae7f-c916576390bc",
   "metadata": {},
   "outputs": [],
   "source": [
    "params_xgb = {\n",
    "        'min_child_weight': [1, 5, 10],\n",
    "        'objective' :['multi:softmax'],\n",
    "        'gamma': [0, 0.5, 1],\n",
    "        'subsample': [0.6, 0.8],\n",
    "        'colsample_bytree': [0.6, 0.8],\n",
    "        'max_depth': [5, 10, 15],\n",
    "        'learning_rate' : [0.01, 0.02, 0.05, 0.1],\n",
    "        'n_estimators' : [500, 700, 1000]\n",
    "        }"
   ]
  },
  {
   "cell_type": "code",
   "execution_count": 88,
   "id": "813a9516-07e9-4ff4-92aa-da40a83bc4ea",
   "metadata": {},
   "outputs": [],
   "source": [
    "skf = StratifiedKFold(n_splits=3, shuffle = True, random_state = 2137)"
   ]
  },
  {
   "cell_type": "code",
   "execution_count": 89,
   "id": "aacc635e-2dde-46d9-9a95-31fc76d3930b",
   "metadata": {},
   "outputs": [
    {
     "name": "stdout",
     "output_type": "stream",
     "text": [
      "Fitting 3 folds for each of 60 candidates, totalling 180 fits\n",
      "[CV 3/3] END colsample_bytree=0.6, gamma=1, learning_rate=0.01, max_depth=5, min_child_weight=10, n_estimators=700, objective=multi:softmax, subsample=0.6;, score=0.627 total time= 2.4min\n",
      "[CV 1/3] END colsample_bytree=0.6, gamma=0, learning_rate=0.02, max_depth=5, min_child_weight=10, n_estimators=700, objective=multi:softmax, subsample=0.6;, score=0.617 total time= 2.6min\n",
      "[CV 1/3] END colsample_bytree=0.8, gamma=0.5, learning_rate=0.02, max_depth=15, min_child_weight=10, n_estimators=500, objective=multi:softmax, subsample=0.8;, score=0.636 total time= 5.6min\n",
      "[CV 1/3] END colsample_bytree=0.8, gamma=0.5, learning_rate=0.05, max_depth=15, min_child_weight=10, n_estimators=500, objective=multi:softmax, subsample=0.8;, score=0.632 total time= 4.7min\n",
      "[CV 3/3] END colsample_bytree=0.6, gamma=0.5, learning_rate=0.01, max_depth=10, min_child_weight=1, n_estimators=1000, objective=multi:softmax, subsample=0.8;, score=0.676 total time=13.8min\n",
      "[CV 3/3] END colsample_bytree=0.8, gamma=0.5, learning_rate=0.05, max_depth=10, min_child_weight=10, n_estimators=500, objective=multi:softmax, subsample=0.6;, score=0.628 total time= 3.4min\n",
      "[CV 1/3] END colsample_bytree=0.6, gamma=1, learning_rate=0.02, max_depth=10, min_child_weight=1, n_estimators=500, objective=multi:softmax, subsample=0.6;, score=0.648 total time= 5.4min\n",
      "[CV 2/3] END colsample_bytree=0.6, gamma=1, learning_rate=0.1, max_depth=5, min_child_weight=10, n_estimators=500, objective=multi:softmax, subsample=0.8;, score=0.650 total time= 1.5min\n",
      "[CV 1/3] END colsample_bytree=0.8, gamma=0, learning_rate=0.02, max_depth=10, min_child_weight=10, n_estimators=1000, objective=multi:softmax, subsample=0.6;, score=0.620 total time= 7.2min\n",
      "[CV 3/3] END colsample_bytree=0.8, gamma=1, learning_rate=0.1, max_depth=5, min_child_weight=10, n_estimators=500, objective=multi:softmax, subsample=0.6;, score=0.618 total time= 1.4min\n",
      "[CV 1/3] END colsample_bytree=0.8, gamma=0.5, learning_rate=0.1, max_depth=15, min_child_weight=10, n_estimators=500, objective=multi:softmax, subsample=0.8;, score=0.622 total time= 3.2min\n",
      "[CV 3/3] END colsample_bytree=0.6, gamma=0, learning_rate=0.05, max_depth=5, min_child_weight=10, n_estimators=1000, objective=multi:softmax, subsample=0.6;, score=0.619 total time= 3.4min\n",
      "[CV 3/3] END colsample_bytree=0.6, gamma=1, learning_rate=0.05, max_depth=15, min_child_weight=5, n_estimators=700, objective=multi:softmax, subsample=0.6;, score=0.661 total time= 4.4min\n",
      "[CV 1/3] END colsample_bytree=0.6, gamma=1, learning_rate=0.1, max_depth=15, min_child_weight=1, n_estimators=1000, objective=multi:softmax, subsample=0.6;, score=0.673 total time= 3.5min\n",
      "[CV 3/3] END colsample_bytree=0.6, gamma=0, learning_rate=0.02, max_depth=5, min_child_weight=10, n_estimators=700, objective=multi:softmax, subsample=0.6;, score=0.645 total time= 2.5min\n",
      "[CV 1/3] END colsample_bytree=0.8, gamma=1, learning_rate=0.1, max_depth=10, min_child_weight=5, n_estimators=500, objective=multi:softmax, subsample=0.6;, score=0.646 total time= 2.5min\n",
      "[CV 2/3] END colsample_bytree=0.8, gamma=1, learning_rate=0.1, max_depth=10, min_child_weight=5, n_estimators=500, objective=multi:softmax, subsample=0.6;, score=0.668 total time= 2.5min\n",
      "[CV 3/3] END colsample_bytree=0.8, gamma=0.5, learning_rate=0.05, max_depth=15, min_child_weight=10, n_estimators=500, objective=multi:softmax, subsample=0.8;, score=0.630 total time= 4.7min\n",
      "[CV 1/3] END colsample_bytree=0.6, gamma=0, learning_rate=0.05, max_depth=5, min_child_weight=1, n_estimators=500, objective=multi:softmax, subsample=0.8;, score=0.660 total time= 2.7min\n",
      "[CV 2/3] END colsample_bytree=0.8, gamma=0.5, learning_rate=0.01, max_depth=15, min_child_weight=5, n_estimators=1000, objective=multi:softmax, subsample=0.6;, score=0.674 total time=12.2min\n",
      "[CV 3/3] END colsample_bytree=0.8, gamma=0.5, learning_rate=0.1, max_depth=5, min_child_weight=10, n_estimators=1000, objective=multi:softmax, subsample=0.8;, score=0.627 total time= 3.2min\n",
      "[CV 2/3] END colsample_bytree=0.8, gamma=0.5, learning_rate=0.05, max_depth=5, min_child_weight=5, n_estimators=1000, objective=multi:softmax, subsample=0.8;, score=0.684 total time= 3.6min\n",
      "[CV 3/3] END colsample_bytree=0.8, gamma=0.5, learning_rate=0.02, max_depth=5, min_child_weight=10, n_estimators=700, objective=multi:softmax, subsample=0.8;, score=0.655 total time= 2.6min\n",
      "[CV 1/3] END colsample_bytree=0.6, gamma=1, learning_rate=0.01, max_depth=10, min_child_weight=5, n_estimators=500, objective=multi:softmax, subsample=0.6;, score=0.623 total time= 4.3min\n",
      "[CV 2/3] END colsample_bytree=0.6, gamma=0, learning_rate=0.1, max_depth=5, min_child_weight=5, n_estimators=1000, objective=multi:softmax, subsample=0.8;, score=0.669 total time= 3.5min\n",
      "[CV 2/3] END colsample_bytree=0.6, gamma=0.5, learning_rate=0.02, max_depth=5, min_child_weight=10, n_estimators=700, objective=multi:softmax, subsample=0.8;, score=0.651 total time= 2.5min\n",
      "[CV 3/3] END colsample_bytree=0.6, gamma=0.5, learning_rate=0.05, max_depth=5, min_child_weight=10, n_estimators=1000, objective=multi:softmax, subsample=0.8;, score=0.636 total time= 3.2min\n",
      "[CV 1/3] END colsample_bytree=0.8, gamma=0.5, learning_rate=0.01, max_depth=15, min_child_weight=10, n_estimators=500, objective=multi:softmax, subsample=0.6;, score=0.599 total time= 5.7min\n",
      "[CV 2/3] END colsample_bytree=0.6, gamma=1, learning_rate=0.1, max_depth=15, min_child_weight=1, n_estimators=1000, objective=multi:softmax, subsample=0.6;, score=0.684 total time= 3.6min\n",
      "[CV 1/3] END colsample_bytree=0.8, gamma=0, learning_rate=0.1, max_depth=15, min_child_weight=1, n_estimators=1000, objective=multi:softmax, subsample=0.6;, score=0.652 total time=13.5min\n",
      "[CV 3/3] END colsample_bytree=0.6, gamma=0, learning_rate=0.05, max_depth=5, min_child_weight=1, n_estimators=500, objective=multi:softmax, subsample=0.8;, score=0.682 total time= 2.7min\n",
      "[CV 3/3] END colsample_bytree=0.6, gamma=0.5, learning_rate=0.02, max_depth=15, min_child_weight=10, n_estimators=1000, objective=multi:softmax, subsample=0.8;, score=0.638 total time= 9.3min\n",
      "[CV 1/3] END colsample_bytree=0.8, gamma=0.5, learning_rate=0.05, max_depth=10, min_child_weight=10, n_estimators=500, objective=multi:softmax, subsample=0.6;, score=0.620 total time= 3.4min\n",
      "[CV 2/3] END colsample_bytree=0.8, gamma=0, learning_rate=0.05, max_depth=15, min_child_weight=1, n_estimators=700, objective=multi:softmax, subsample=0.8;, score=0.679 total time=12.9min\n",
      "[CV 2/3] END colsample_bytree=0.8, gamma=1, learning_rate=0.1, max_depth=5, min_child_weight=10, n_estimators=500, objective=multi:softmax, subsample=0.6;, score=0.633 total time= 1.5min\n",
      "[CV 3/3] END colsample_bytree=0.6, gamma=1, learning_rate=0.02, max_depth=5, min_child_weight=10, n_estimators=500, objective=multi:softmax, subsample=0.6;, score=0.636 total time= 1.6min\n",
      "[CV 1/3] END colsample_bytree=0.6, gamma=1, learning_rate=0.01, max_depth=5, min_child_weight=10, n_estimators=500, objective=multi:softmax, subsample=0.8;, score=0.581 total time= 2.0min\n",
      "[CV 1/3] END colsample_bytree=0.6, gamma=0.5, learning_rate=0.02, max_depth=5, min_child_weight=5, n_estimators=1000, objective=multi:softmax, subsample=0.6;, score=0.647 total time= 3.8min\n",
      "[CV 2/3] END colsample_bytree=0.8, gamma=0.5, learning_rate=0.01, max_depth=15, min_child_weight=10, n_estimators=500, objective=multi:softmax, subsample=0.6;, score=0.635 total time= 5.5min\n",
      "[CV 1/3] END colsample_bytree=0.6, gamma=0.5, learning_rate=0.1, max_depth=10, min_child_weight=1, n_estimators=1000, objective=multi:softmax, subsample=0.6;, score=0.671 total time= 5.0min\n",
      "[CV 3/3] END colsample_bytree=0.8, gamma=1, learning_rate=0.01, max_depth=15, min_child_weight=10, n_estimators=1000, objective=multi:softmax, subsample=0.8;, score=0.646 total time=10.2min\n",
      "[CV 1/3] END colsample_bytree=0.6, gamma=0.5, learning_rate=0.01, max_depth=10, min_child_weight=1, n_estimators=1000, objective=multi:softmax, subsample=0.8;, score=0.650 total time=13.7min\n",
      "[CV 2/3] END colsample_bytree=0.8, gamma=0.5, learning_rate=0.1, max_depth=10, min_child_weight=10, n_estimators=500, objective=multi:softmax, subsample=0.6;, score=0.633 total time= 3.2min\n",
      "[CV 3/3] END colsample_bytree=0.8, gamma=0.5, learning_rate=0.05, max_depth=5, min_child_weight=5, n_estimators=700, objective=multi:softmax, subsample=0.8;, score=0.682 total time= 2.6min\n",
      "[CV 1/3] END colsample_bytree=0.8, gamma=0.5, learning_rate=0.05, max_depth=10, min_child_weight=10, n_estimators=1000, objective=multi:softmax, subsample=0.8;, score=0.625 total time= 5.7min\n",
      "[CV 2/3] END colsample_bytree=0.6, gamma=1, learning_rate=0.01, max_depth=10, min_child_weight=5, n_estimators=500, objective=multi:softmax, subsample=0.6;, score=0.663 total time= 4.2min\n",
      "[CV 3/3] END colsample_bytree=0.6, gamma=0, learning_rate=0.1, max_depth=5, min_child_weight=5, n_estimators=1000, objective=multi:softmax, subsample=0.8;, score=0.659 total time= 3.4min\n",
      "[CV 3/3] END colsample_bytree=0.6, gamma=0.5, learning_rate=0.02, max_depth=5, min_child_weight=10, n_estimators=700, objective=multi:softmax, subsample=0.8;, score=0.655 total time= 2.5min\n",
      "[CV 2/3] END colsample_bytree=0.6, gamma=0.5, learning_rate=0.02, max_depth=5, min_child_weight=5, n_estimators=1000, objective=multi:softmax, subsample=0.6;, score=0.671 total time= 3.8min\n",
      "[CV 3/3] END colsample_bytree=0.8, gamma=0.5, learning_rate=0.01, max_depth=15, min_child_weight=10, n_estimators=500, objective=multi:softmax, subsample=0.6;, score=0.636 total time= 5.6min\n"
     ]
    },
    {
     "data": {
      "text/html": [
       "<style>#sk-container-id-4 {\n",
       "  /* Definition of color scheme common for light and dark mode */\n",
       "  --sklearn-color-text: black;\n",
       "  --sklearn-color-line: gray;\n",
       "  /* Definition of color scheme for unfitted estimators */\n",
       "  --sklearn-color-unfitted-level-0: #fff5e6;\n",
       "  --sklearn-color-unfitted-level-1: #f6e4d2;\n",
       "  --sklearn-color-unfitted-level-2: #ffe0b3;\n",
       "  --sklearn-color-unfitted-level-3: chocolate;\n",
       "  /* Definition of color scheme for fitted estimators */\n",
       "  --sklearn-color-fitted-level-0: #f0f8ff;\n",
       "  --sklearn-color-fitted-level-1: #d4ebff;\n",
       "  --sklearn-color-fitted-level-2: #b3dbfd;\n",
       "  --sklearn-color-fitted-level-3: cornflowerblue;\n",
       "\n",
       "  /* Specific color for light theme */\n",
       "  --sklearn-color-text-on-default-background: var(--sg-text-color, var(--theme-code-foreground, var(--jp-content-font-color1, black)));\n",
       "  --sklearn-color-background: var(--sg-background-color, var(--theme-background, var(--jp-layout-color0, white)));\n",
       "  --sklearn-color-border-box: var(--sg-text-color, var(--theme-code-foreground, var(--jp-content-font-color1, black)));\n",
       "  --sklearn-color-icon: #696969;\n",
       "\n",
       "  @media (prefers-color-scheme: dark) {\n",
       "    /* Redefinition of color scheme for dark theme */\n",
       "    --sklearn-color-text-on-default-background: var(--sg-text-color, var(--theme-code-foreground, var(--jp-content-font-color1, white)));\n",
       "    --sklearn-color-background: var(--sg-background-color, var(--theme-background, var(--jp-layout-color0, #111)));\n",
       "    --sklearn-color-border-box: var(--sg-text-color, var(--theme-code-foreground, var(--jp-content-font-color1, white)));\n",
       "    --sklearn-color-icon: #878787;\n",
       "  }\n",
       "}\n",
       "\n",
       "#sk-container-id-4 {\n",
       "  color: var(--sklearn-color-text);\n",
       "}\n",
       "\n",
       "#sk-container-id-4 pre {\n",
       "  padding: 0;\n",
       "}\n",
       "\n",
       "#sk-container-id-4 input.sk-hidden--visually {\n",
       "  border: 0;\n",
       "  clip: rect(1px 1px 1px 1px);\n",
       "  clip: rect(1px, 1px, 1px, 1px);\n",
       "  height: 1px;\n",
       "  margin: -1px;\n",
       "  overflow: hidden;\n",
       "  padding: 0;\n",
       "  position: absolute;\n",
       "  width: 1px;\n",
       "}\n",
       "\n",
       "#sk-container-id-4 div.sk-dashed-wrapped {\n",
       "  border: 1px dashed var(--sklearn-color-line);\n",
       "  margin: 0 0.4em 0.5em 0.4em;\n",
       "  box-sizing: border-box;\n",
       "  padding-bottom: 0.4em;\n",
       "  background-color: var(--sklearn-color-background);\n",
       "}\n",
       "\n",
       "#sk-container-id-4 div.sk-container {\n",
       "  /* jupyter's `normalize.less` sets `[hidden] { display: none; }`\n",
       "     but bootstrap.min.css set `[hidden] { display: none !important; }`\n",
       "     so we also need the `!important` here to be able to override the\n",
       "     default hidden behavior on the sphinx rendered scikit-learn.org.\n",
       "     See: https://github.com/scikit-learn/scikit-learn/issues/21755 */\n",
       "  display: inline-block !important;\n",
       "  position: relative;\n",
       "}\n",
       "\n",
       "#sk-container-id-4 div.sk-text-repr-fallback {\n",
       "  display: none;\n",
       "}\n",
       "\n",
       "div.sk-parallel-item,\n",
       "div.sk-serial,\n",
       "div.sk-item {\n",
       "  /* draw centered vertical line to link estimators */\n",
       "  background-image: linear-gradient(var(--sklearn-color-text-on-default-background), var(--sklearn-color-text-on-default-background));\n",
       "  background-size: 2px 100%;\n",
       "  background-repeat: no-repeat;\n",
       "  background-position: center center;\n",
       "}\n",
       "\n",
       "/* Parallel-specific style estimator block */\n",
       "\n",
       "#sk-container-id-4 div.sk-parallel-item::after {\n",
       "  content: \"\";\n",
       "  width: 100%;\n",
       "  border-bottom: 2px solid var(--sklearn-color-text-on-default-background);\n",
       "  flex-grow: 1;\n",
       "}\n",
       "\n",
       "#sk-container-id-4 div.sk-parallel {\n",
       "  display: flex;\n",
       "  align-items: stretch;\n",
       "  justify-content: center;\n",
       "  background-color: var(--sklearn-color-background);\n",
       "  position: relative;\n",
       "}\n",
       "\n",
       "#sk-container-id-4 div.sk-parallel-item {\n",
       "  display: flex;\n",
       "  flex-direction: column;\n",
       "}\n",
       "\n",
       "#sk-container-id-4 div.sk-parallel-item:first-child::after {\n",
       "  align-self: flex-end;\n",
       "  width: 50%;\n",
       "}\n",
       "\n",
       "#sk-container-id-4 div.sk-parallel-item:last-child::after {\n",
       "  align-self: flex-start;\n",
       "  width: 50%;\n",
       "}\n",
       "\n",
       "#sk-container-id-4 div.sk-parallel-item:only-child::after {\n",
       "  width: 0;\n",
       "}\n",
       "\n",
       "/* Serial-specific style estimator block */\n",
       "\n",
       "#sk-container-id-4 div.sk-serial {\n",
       "  display: flex;\n",
       "  flex-direction: column;\n",
       "  align-items: center;\n",
       "  background-color: var(--sklearn-color-background);\n",
       "  padding-right: 1em;\n",
       "  padding-left: 1em;\n",
       "}\n",
       "\n",
       "\n",
       "/* Toggleable style: style used for estimator/Pipeline/ColumnTransformer box that is\n",
       "clickable and can be expanded/collapsed.\n",
       "- Pipeline and ColumnTransformer use this feature and define the default style\n",
       "- Estimators will overwrite some part of the style using the `sk-estimator` class\n",
       "*/\n",
       "\n",
       "/* Pipeline and ColumnTransformer style (default) */\n",
       "\n",
       "#sk-container-id-4 div.sk-toggleable {\n",
       "  /* Default theme specific background. It is overwritten whether we have a\n",
       "  specific estimator or a Pipeline/ColumnTransformer */\n",
       "  background-color: var(--sklearn-color-background);\n",
       "}\n",
       "\n",
       "/* Toggleable label */\n",
       "#sk-container-id-4 label.sk-toggleable__label {\n",
       "  cursor: pointer;\n",
       "  display: block;\n",
       "  width: 100%;\n",
       "  margin-bottom: 0;\n",
       "  padding: 0.5em;\n",
       "  box-sizing: border-box;\n",
       "  text-align: center;\n",
       "}\n",
       "\n",
       "#sk-container-id-4 label.sk-toggleable__label-arrow:before {\n",
       "  /* Arrow on the left of the label */\n",
       "  content: \"▸\";\n",
       "  float: left;\n",
       "  margin-right: 0.25em;\n",
       "  color: var(--sklearn-color-icon);\n",
       "}\n",
       "\n",
       "#sk-container-id-4 label.sk-toggleable__label-arrow:hover:before {\n",
       "  color: var(--sklearn-color-text);\n",
       "}\n",
       "\n",
       "/* Toggleable content - dropdown */\n",
       "\n",
       "#sk-container-id-4 div.sk-toggleable__content {\n",
       "  max-height: 0;\n",
       "  max-width: 0;\n",
       "  overflow: hidden;\n",
       "  text-align: left;\n",
       "  /* unfitted */\n",
       "  background-color: var(--sklearn-color-unfitted-level-0);\n",
       "}\n",
       "\n",
       "#sk-container-id-4 div.sk-toggleable__content.fitted {\n",
       "  /* fitted */\n",
       "  background-color: var(--sklearn-color-fitted-level-0);\n",
       "}\n",
       "\n",
       "#sk-container-id-4 div.sk-toggleable__content pre {\n",
       "  margin: 0.2em;\n",
       "  border-radius: 0.25em;\n",
       "  color: var(--sklearn-color-text);\n",
       "  /* unfitted */\n",
       "  background-color: var(--sklearn-color-unfitted-level-0);\n",
       "}\n",
       "\n",
       "#sk-container-id-4 div.sk-toggleable__content.fitted pre {\n",
       "  /* unfitted */\n",
       "  background-color: var(--sklearn-color-fitted-level-0);\n",
       "}\n",
       "\n",
       "#sk-container-id-4 input.sk-toggleable__control:checked~div.sk-toggleable__content {\n",
       "  /* Expand drop-down */\n",
       "  max-height: 200px;\n",
       "  max-width: 100%;\n",
       "  overflow: auto;\n",
       "}\n",
       "\n",
       "#sk-container-id-4 input.sk-toggleable__control:checked~label.sk-toggleable__label-arrow:before {\n",
       "  content: \"▾\";\n",
       "}\n",
       "\n",
       "/* Pipeline/ColumnTransformer-specific style */\n",
       "\n",
       "#sk-container-id-4 div.sk-label input.sk-toggleable__control:checked~label.sk-toggleable__label {\n",
       "  color: var(--sklearn-color-text);\n",
       "  background-color: var(--sklearn-color-unfitted-level-2);\n",
       "}\n",
       "\n",
       "#sk-container-id-4 div.sk-label.fitted input.sk-toggleable__control:checked~label.sk-toggleable__label {\n",
       "  background-color: var(--sklearn-color-fitted-level-2);\n",
       "}\n",
       "\n",
       "/* Estimator-specific style */\n",
       "\n",
       "/* Colorize estimator box */\n",
       "#sk-container-id-4 div.sk-estimator input.sk-toggleable__control:checked~label.sk-toggleable__label {\n",
       "  /* unfitted */\n",
       "  background-color: var(--sklearn-color-unfitted-level-2);\n",
       "}\n",
       "\n",
       "#sk-container-id-4 div.sk-estimator.fitted input.sk-toggleable__control:checked~label.sk-toggleable__label {\n",
       "  /* fitted */\n",
       "  background-color: var(--sklearn-color-fitted-level-2);\n",
       "}\n",
       "\n",
       "#sk-container-id-4 div.sk-label label.sk-toggleable__label,\n",
       "#sk-container-id-4 div.sk-label label {\n",
       "  /* The background is the default theme color */\n",
       "  color: var(--sklearn-color-text-on-default-background);\n",
       "}\n",
       "\n",
       "/* On hover, darken the color of the background */\n",
       "#sk-container-id-4 div.sk-label:hover label.sk-toggleable__label {\n",
       "  color: var(--sklearn-color-text);\n",
       "  background-color: var(--sklearn-color-unfitted-level-2);\n",
       "}\n",
       "\n",
       "/* Label box, darken color on hover, fitted */\n",
       "#sk-container-id-4 div.sk-label.fitted:hover label.sk-toggleable__label.fitted {\n",
       "  color: var(--sklearn-color-text);\n",
       "  background-color: var(--sklearn-color-fitted-level-2);\n",
       "}\n",
       "\n",
       "/* Estimator label */\n",
       "\n",
       "#sk-container-id-4 div.sk-label label {\n",
       "  font-family: monospace;\n",
       "  font-weight: bold;\n",
       "  display: inline-block;\n",
       "  line-height: 1.2em;\n",
       "}\n",
       "\n",
       "#sk-container-id-4 div.sk-label-container {\n",
       "  text-align: center;\n",
       "}\n",
       "\n",
       "/* Estimator-specific */\n",
       "#sk-container-id-4 div.sk-estimator {\n",
       "  font-family: monospace;\n",
       "  border: 1px dotted var(--sklearn-color-border-box);\n",
       "  border-radius: 0.25em;\n",
       "  box-sizing: border-box;\n",
       "  margin-bottom: 0.5em;\n",
       "  /* unfitted */\n",
       "  background-color: var(--sklearn-color-unfitted-level-0);\n",
       "}\n",
       "\n",
       "#sk-container-id-4 div.sk-estimator.fitted {\n",
       "  /* fitted */\n",
       "  background-color: var(--sklearn-color-fitted-level-0);\n",
       "}\n",
       "\n",
       "/* on hover */\n",
       "#sk-container-id-4 div.sk-estimator:hover {\n",
       "  /* unfitted */\n",
       "  background-color: var(--sklearn-color-unfitted-level-2);\n",
       "}\n",
       "\n",
       "#sk-container-id-4 div.sk-estimator.fitted:hover {\n",
       "  /* fitted */\n",
       "  background-color: var(--sklearn-color-fitted-level-2);\n",
       "}\n",
       "\n",
       "/* Specification for estimator info (e.g. \"i\" and \"?\") */\n",
       "\n",
       "/* Common style for \"i\" and \"?\" */\n",
       "\n",
       ".sk-estimator-doc-link,\n",
       "a:link.sk-estimator-doc-link,\n",
       "a:visited.sk-estimator-doc-link {\n",
       "  float: right;\n",
       "  font-size: smaller;\n",
       "  line-height: 1em;\n",
       "  font-family: monospace;\n",
       "  background-color: var(--sklearn-color-background);\n",
       "  border-radius: 1em;\n",
       "  height: 1em;\n",
       "  width: 1em;\n",
       "  text-decoration: none !important;\n",
       "  margin-left: 1ex;\n",
       "  /* unfitted */\n",
       "  border: var(--sklearn-color-unfitted-level-1) 1pt solid;\n",
       "  color: var(--sklearn-color-unfitted-level-1);\n",
       "}\n",
       "\n",
       ".sk-estimator-doc-link.fitted,\n",
       "a:link.sk-estimator-doc-link.fitted,\n",
       "a:visited.sk-estimator-doc-link.fitted {\n",
       "  /* fitted */\n",
       "  border: var(--sklearn-color-fitted-level-1) 1pt solid;\n",
       "  color: var(--sklearn-color-fitted-level-1);\n",
       "}\n",
       "\n",
       "/* On hover */\n",
       "div.sk-estimator:hover .sk-estimator-doc-link:hover,\n",
       ".sk-estimator-doc-link:hover,\n",
       "div.sk-label-container:hover .sk-estimator-doc-link:hover,\n",
       ".sk-estimator-doc-link:hover {\n",
       "  /* unfitted */\n",
       "  background-color: var(--sklearn-color-unfitted-level-3);\n",
       "  color: var(--sklearn-color-background);\n",
       "  text-decoration: none;\n",
       "}\n",
       "\n",
       "div.sk-estimator.fitted:hover .sk-estimator-doc-link.fitted:hover,\n",
       ".sk-estimator-doc-link.fitted:hover,\n",
       "div.sk-label-container:hover .sk-estimator-doc-link.fitted:hover,\n",
       ".sk-estimator-doc-link.fitted:hover {\n",
       "  /* fitted */\n",
       "  background-color: var(--sklearn-color-fitted-level-3);\n",
       "  color: var(--sklearn-color-background);\n",
       "  text-decoration: none;\n",
       "}\n",
       "\n",
       "/* Span, style for the box shown on hovering the info icon */\n",
       ".sk-estimator-doc-link span {\n",
       "  display: none;\n",
       "  z-index: 9999;\n",
       "  position: relative;\n",
       "  font-weight: normal;\n",
       "  right: .2ex;\n",
       "  padding: .5ex;\n",
       "  margin: .5ex;\n",
       "  width: min-content;\n",
       "  min-width: 20ex;\n",
       "  max-width: 50ex;\n",
       "  color: var(--sklearn-color-text);\n",
       "  box-shadow: 2pt 2pt 4pt #999;\n",
       "  /* unfitted */\n",
       "  background: var(--sklearn-color-unfitted-level-0);\n",
       "  border: .5pt solid var(--sklearn-color-unfitted-level-3);\n",
       "}\n",
       "\n",
       ".sk-estimator-doc-link.fitted span {\n",
       "  /* fitted */\n",
       "  background: var(--sklearn-color-fitted-level-0);\n",
       "  border: var(--sklearn-color-fitted-level-3);\n",
       "}\n",
       "\n",
       ".sk-estimator-doc-link:hover span {\n",
       "  display: block;\n",
       "}\n",
       "\n",
       "/* \"?\"-specific style due to the `<a>` HTML tag */\n",
       "\n",
       "#sk-container-id-4 a.estimator_doc_link {\n",
       "  float: right;\n",
       "  font-size: 1rem;\n",
       "  line-height: 1em;\n",
       "  font-family: monospace;\n",
       "  background-color: var(--sklearn-color-background);\n",
       "  border-radius: 1rem;\n",
       "  height: 1rem;\n",
       "  width: 1rem;\n",
       "  text-decoration: none;\n",
       "  /* unfitted */\n",
       "  color: var(--sklearn-color-unfitted-level-1);\n",
       "  border: var(--sklearn-color-unfitted-level-1) 1pt solid;\n",
       "}\n",
       "\n",
       "#sk-container-id-4 a.estimator_doc_link.fitted {\n",
       "  /* fitted */\n",
       "  border: var(--sklearn-color-fitted-level-1) 1pt solid;\n",
       "  color: var(--sklearn-color-fitted-level-1);\n",
       "}\n",
       "\n",
       "/* On hover */\n",
       "#sk-container-id-4 a.estimator_doc_link:hover {\n",
       "  /* unfitted */\n",
       "  background-color: var(--sklearn-color-unfitted-level-3);\n",
       "  color: var(--sklearn-color-background);\n",
       "  text-decoration: none;\n",
       "}\n",
       "\n",
       "#sk-container-id-4 a.estimator_doc_link.fitted:hover {\n",
       "  /* fitted */\n",
       "  background-color: var(--sklearn-color-fitted-level-3);\n",
       "}\n",
       "</style><div id=\"sk-container-id-4\" class=\"sk-top-container\"><div class=\"sk-text-repr-fallback\"><pre>RandomizedSearchCV(cv=&lt;generator object _BaseKFold.split at 0x7a6060e3b8b0&gt;,\n",
       "                   estimator=XGBClassifier(base_score=None, booster=None,\n",
       "                                           callbacks=None,\n",
       "                                           colsample_bylevel=None,\n",
       "                                           colsample_bynode=None,\n",
       "                                           colsample_bytree=None, device=None,\n",
       "                                           early_stopping_rounds=None,\n",
       "                                           enable_categorical=True,\n",
       "                                           eval_metric=None, feature_types=None,\n",
       "                                           gamma=None, grow_policy=None,\n",
       "                                           importance_type=...\n",
       "                                           num_parallel_tree=None,\n",
       "                                           random_state=None, ...),\n",
       "                   n_iter=60, n_jobs=-1,\n",
       "                   param_distributions={&#x27;colsample_bytree&#x27;: [0.6, 0.8],\n",
       "                                        &#x27;gamma&#x27;: [0, 0.5, 1],\n",
       "                                        &#x27;learning_rate&#x27;: [0.01, 0.02, 0.05,\n",
       "                                                          0.1],\n",
       "                                        &#x27;max_depth&#x27;: [5, 10, 15],\n",
       "                                        &#x27;min_child_weight&#x27;: [1, 5, 10],\n",
       "                                        &#x27;n_estimators&#x27;: [500, 700, 1000],\n",
       "                                        &#x27;objective&#x27;: [&#x27;multi:softmax&#x27;],\n",
       "                                        &#x27;subsample&#x27;: [0.6, 0.8]},\n",
       "                   random_state=2137, scoring=&#x27;accuracy&#x27;, verbose=3)</pre><b>In a Jupyter environment, please rerun this cell to show the HTML representation or trust the notebook. <br />On GitHub, the HTML representation is unable to render, please try loading this page with nbviewer.org.</b></div><div class=\"sk-container\" hidden><div class=\"sk-item sk-dashed-wrapped\"><div class=\"sk-label-container\"><div class=\"sk-label fitted sk-toggleable\"><input class=\"sk-toggleable__control sk-hidden--visually\" id=\"sk-estimator-id-6\" type=\"checkbox\" ><label for=\"sk-estimator-id-6\" class=\"sk-toggleable__label fitted sk-toggleable__label-arrow fitted\">&nbsp;&nbsp;RandomizedSearchCV<a class=\"sk-estimator-doc-link fitted\" rel=\"noreferrer\" target=\"_blank\" href=\"https://scikit-learn.org/1.4/modules/generated/sklearn.model_selection.RandomizedSearchCV.html\">?<span>Documentation for RandomizedSearchCV</span></a><span class=\"sk-estimator-doc-link fitted\">i<span>Fitted</span></span></label><div class=\"sk-toggleable__content fitted\"><pre>RandomizedSearchCV(cv=&lt;generator object _BaseKFold.split at 0x7a6060e3b8b0&gt;,\n",
       "                   estimator=XGBClassifier(base_score=None, booster=None,\n",
       "                                           callbacks=None,\n",
       "                                           colsample_bylevel=None,\n",
       "                                           colsample_bynode=None,\n",
       "                                           colsample_bytree=None, device=None,\n",
       "                                           early_stopping_rounds=None,\n",
       "                                           enable_categorical=True,\n",
       "                                           eval_metric=None, feature_types=None,\n",
       "                                           gamma=None, grow_policy=None,\n",
       "                                           importance_type=...\n",
       "                                           num_parallel_tree=None,\n",
       "                                           random_state=None, ...),\n",
       "                   n_iter=60, n_jobs=-1,\n",
       "                   param_distributions={&#x27;colsample_bytree&#x27;: [0.6, 0.8],\n",
       "                                        &#x27;gamma&#x27;: [0, 0.5, 1],\n",
       "                                        &#x27;learning_rate&#x27;: [0.01, 0.02, 0.05,\n",
       "                                                          0.1],\n",
       "                                        &#x27;max_depth&#x27;: [5, 10, 15],\n",
       "                                        &#x27;min_child_weight&#x27;: [1, 5, 10],\n",
       "                                        &#x27;n_estimators&#x27;: [500, 700, 1000],\n",
       "                                        &#x27;objective&#x27;: [&#x27;multi:softmax&#x27;],\n",
       "                                        &#x27;subsample&#x27;: [0.6, 0.8]},\n",
       "                   random_state=2137, scoring=&#x27;accuracy&#x27;, verbose=3)</pre></div> </div></div><div class=\"sk-parallel\"><div class=\"sk-parallel-item\"><div class=\"sk-item\"><div class=\"sk-label-container\"><div class=\"sk-label fitted sk-toggleable\"><input class=\"sk-toggleable__control sk-hidden--visually\" id=\"sk-estimator-id-7\" type=\"checkbox\" ><label for=\"sk-estimator-id-7\" class=\"sk-toggleable__label fitted sk-toggleable__label-arrow fitted\">estimator: XGBClassifier</label><div class=\"sk-toggleable__content fitted\"><pre>XGBClassifier(base_score=None, booster=None, callbacks=None,\n",
       "              colsample_bylevel=None, colsample_bynode=None,\n",
       "              colsample_bytree=None, device=None, early_stopping_rounds=None,\n",
       "              enable_categorical=True, eval_metric=None, feature_types=None,\n",
       "              gamma=None, grow_policy=None, importance_type=None,\n",
       "              interaction_constraints=None, learning_rate=None, max_bin=None,\n",
       "              max_cat_threshold=None, max_cat_to_onehot=None,\n",
       "              max_delta_step=None, max_depth=None, max_leaves=None,\n",
       "              min_child_weight=None, missing=nan, monotone_constraints=None,\n",
       "              multi_strategy=None, n_estimators=None, n_jobs=None,\n",
       "              num_parallel_tree=None, random_state=None, ...)</pre></div> </div></div><div class=\"sk-serial\"><div class=\"sk-item\"><div class=\"sk-estimator fitted sk-toggleable\"><input class=\"sk-toggleable__control sk-hidden--visually\" id=\"sk-estimator-id-8\" type=\"checkbox\" ><label for=\"sk-estimator-id-8\" class=\"sk-toggleable__label fitted sk-toggleable__label-arrow fitted\">XGBClassifier</label><div class=\"sk-toggleable__content fitted\"><pre>XGBClassifier(base_score=None, booster=None, callbacks=None,\n",
       "              colsample_bylevel=None, colsample_bynode=None,\n",
       "              colsample_bytree=None, device=None, early_stopping_rounds=None,\n",
       "              enable_categorical=True, eval_metric=None, feature_types=None,\n",
       "              gamma=None, grow_policy=None, importance_type=None,\n",
       "              interaction_constraints=None, learning_rate=None, max_bin=None,\n",
       "              max_cat_threshold=None, max_cat_to_onehot=None,\n",
       "              max_delta_step=None, max_depth=None, max_leaves=None,\n",
       "              min_child_weight=None, missing=nan, monotone_constraints=None,\n",
       "              multi_strategy=None, n_estimators=None, n_jobs=None,\n",
       "              num_parallel_tree=None, random_state=None, ...)</pre></div> </div></div></div></div></div></div></div></div></div>"
      ],
      "text/plain": [
       "RandomizedSearchCV(cv=<generator object _BaseKFold.split at 0x7a6060e3b8b0>,\n",
       "                   estimator=XGBClassifier(base_score=None, booster=None,\n",
       "                                           callbacks=None,\n",
       "                                           colsample_bylevel=None,\n",
       "                                           colsample_bynode=None,\n",
       "                                           colsample_bytree=None, device=None,\n",
       "                                           early_stopping_rounds=None,\n",
       "                                           enable_categorical=True,\n",
       "                                           eval_metric=None, feature_types=None,\n",
       "                                           gamma=None, grow_policy=None,\n",
       "                                           importance_type=...\n",
       "                                           num_parallel_tree=None,\n",
       "                                           random_state=None, ...),\n",
       "                   n_iter=60, n_jobs=-1,\n",
       "                   param_distributions={'colsample_bytree': [0.6, 0.8],\n",
       "                                        'gamma': [0, 0.5, 1],\n",
       "                                        'learning_rate': [0.01, 0.02, 0.05,\n",
       "                                                          0.1],\n",
       "                                        'max_depth': [5, 10, 15],\n",
       "                                        'min_child_weight': [1, 5, 10],\n",
       "                                        'n_estimators': [500, 700, 1000],\n",
       "                                        'objective': ['multi:softmax'],\n",
       "                                        'subsample': [0.6, 0.8]},\n",
       "                   random_state=2137, scoring='accuracy', verbose=3)"
      ]
     },
     "execution_count": 89,
     "metadata": {},
     "output_type": "execute_result"
    },
    {
     "name": "stdout",
     "output_type": "stream",
     "text": [
      "[CV 2/3] END colsample_bytree=0.6, gamma=1, learning_rate=0.01, max_depth=5, min_child_weight=10, n_estimators=700, objective=multi:softmax, subsample=0.6;, score=0.616 total time= 2.4min\n",
      "[CV 2/3] END colsample_bytree=0.8, gamma=0.5, learning_rate=0.01, max_depth=15, min_child_weight=5, n_estimators=700, objective=multi:softmax, subsample=0.6;, score=0.677 total time= 9.4min\n",
      "[CV 1/3] END colsample_bytree=0.6, gamma=0.5, learning_rate=0.02, max_depth=10, min_child_weight=1, n_estimators=700, objective=multi:softmax, subsample=0.6;, score=0.662 total time= 8.1min\n",
      "[CV 3/3] END colsample_bytree=0.8, gamma=0, learning_rate=0.01, max_depth=10, min_child_weight=10, n_estimators=1000, objective=multi:softmax, subsample=0.8;, score=0.649 total time= 8.6min\n",
      "[CV 3/3] END colsample_bytree=0.8, gamma=0, learning_rate=0.05, max_depth=10, min_child_weight=10, n_estimators=1000, objective=multi:softmax, subsample=0.8;, score=0.627 total time= 7.1min\n",
      "[CV 1/3] END colsample_bytree=0.8, gamma=0.5, learning_rate=0.02, max_depth=5, min_child_weight=10, n_estimators=700, objective=multi:softmax, subsample=0.8;, score=0.628 total time= 2.6min\n",
      "[CV 3/3] END colsample_bytree=0.6, gamma=1, learning_rate=0.1, max_depth=5, min_child_weight=10, n_estimators=500, objective=multi:softmax, subsample=0.8;, score=0.642 total time= 1.5min\n",
      "[CV 2/3] END colsample_bytree=0.8, gamma=0, learning_rate=0.02, max_depth=10, min_child_weight=10, n_estimators=1000, objective=multi:softmax, subsample=0.6;, score=0.633 total time= 7.1min\n",
      "[CV 2/3] END colsample_bytree=0.6, gamma=1, learning_rate=0.02, max_depth=5, min_child_weight=10, n_estimators=500, objective=multi:softmax, subsample=0.6;, score=0.630 total time= 1.6min\n",
      "[CV 3/3] END colsample_bytree=0.8, gamma=0.5, learning_rate=0.1, max_depth=15, min_child_weight=10, n_estimators=500, objective=multi:softmax, subsample=0.8;, score=0.630 total time= 3.2min\n",
      "[CV 1/3] END colsample_bytree=0.6, gamma=1, learning_rate=0.02, max_depth=15, min_child_weight=1, n_estimators=700, objective=multi:softmax, subsample=0.6;, score=0.675 total time= 9.1min\n"
     ]
    }
   ],
   "source": [
    "tune_xgb = xgb.XGBClassifier(enable_categorical=True)\n",
    "rand_xgb = RandomizedSearchCV(tune_xgb, param_distributions=params_xgb, n_iter=60, scoring='accuracy', n_jobs=-1, cv=skf.split(X_train,y_train), verbose=3, random_state=2137)\n",
    "rand_xgb.fit(X_train, y_train)"
   ]
  },
  {
   "cell_type": "code",
   "execution_count": 90,
   "id": "21b13b2e-1d32-418f-b27a-e4f6d87d7d91",
   "metadata": {},
   "outputs": [],
   "source": [
    "rand_xgb_pred = rand_xgb.predict(X_test)"
   ]
  },
  {
   "cell_type": "code",
   "execution_count": 91,
   "id": "3a9845f7-6a8c-40ea-8df1-a20752ca5127",
   "metadata": {},
   "outputs": [],
   "source": [
    "rand_xgb_proba= rand_xgb.predict_proba(X_test)"
   ]
  },
  {
   "cell_type": "code",
   "execution_count": 92,
   "id": "2ae0d642-c14d-429c-b090-95dfe379176a",
   "metadata": {},
   "outputs": [
    {
     "name": "stdout",
     "output_type": "stream",
     "text": [
      "0.7028241335044929\n",
      "[[261  31  26  63]\n",
      " [ 20 226  24  73]\n",
      " [ 36  28 233  55]\n",
      " [ 36  41  30 375]]\n",
      "{'subsample': 0.8, 'objective': 'multi:softmax', 'n_estimators': 500, 'min_child_weight': 1, 'max_depth': 10, 'learning_rate': 0.05, 'gamma': 1, 'colsample_bytree': 0.6}\n",
      "[CV 3/3] END colsample_bytree=0.8, gamma=0, learning_rate=0.05, max_depth=10, min_child_weight=5, n_estimators=700, objective=multi:softmax, subsample=0.8;, score=0.673 total time= 5.9min\n",
      "[CV 1/3] END colsample_bytree=0.6, gamma=1, learning_rate=0.05, max_depth=5, min_child_weight=5, n_estimators=1000, objective=multi:softmax, subsample=0.8;, score=0.656 total time= 3.3min\n",
      "[CV 3/3] END colsample_bytree=0.8, gamma=1, learning_rate=0.1, max_depth=10, min_child_weight=5, n_estimators=500, objective=multi:softmax, subsample=0.6;, score=0.656 total time= 2.4min\n",
      "[CV 2/3] END colsample_bytree=0.8, gamma=0, learning_rate=0.05, max_depth=15, min_child_weight=5, n_estimators=700, objective=multi:softmax, subsample=0.8;, score=0.664 total time= 8.6min\n",
      "[CV 1/3] END colsample_bytree=0.8, gamma=1, learning_rate=0.1, max_depth=10, min_child_weight=1, n_estimators=1000, objective=multi:softmax, subsample=0.8;, score=0.670 total time= 3.4min\n",
      "[CV 3/3] END colsample_bytree=0.6, gamma=1, learning_rate=0.02, max_depth=5, min_child_weight=1, n_estimators=700, objective=multi:softmax, subsample=0.8;, score=0.673 total time= 3.5min\n",
      "[CV 3/3] END colsample_bytree=0.8, gamma=1, learning_rate=0.05, max_depth=10, min_child_weight=10, n_estimators=700, objective=multi:softmax, subsample=0.8;, score=0.643 total time= 3.4min\n",
      "[CV 2/3] END colsample_bytree=0.8, gamma=0.5, learning_rate=0.1, max_depth=5, min_child_weight=10, n_estimators=1000, objective=multi:softmax, subsample=0.8;, score=0.633 total time= 3.2min\n",
      "[CV 1/3] END colsample_bytree=0.8, gamma=0.5, learning_rate=0.05, max_depth=5, min_child_weight=5, n_estimators=1000, objective=multi:softmax, subsample=0.8;, score=0.666 total time= 3.6min\n",
      "[CV 2/3] END colsample_bytree=0.8, gamma=0.5, learning_rate=0.02, max_depth=5, min_child_weight=10, n_estimators=700, objective=multi:softmax, subsample=0.8;, score=0.652 total time= 2.6min\n",
      "[CV 3/3] END colsample_bytree=0.8, gamma=0, learning_rate=0.02, max_depth=10, min_child_weight=10, n_estimators=1000, objective=multi:softmax, subsample=0.6;, score=0.629 total time= 7.3min\n",
      "[CV 1/3] END colsample_bytree=0.6, gamma=0.5, learning_rate=0.02, max_depth=5, min_child_weight=10, n_estimators=700, objective=multi:softmax, subsample=0.8;, score=0.624 total time= 2.5min\n",
      "[CV 2/3] END colsample_bytree=0.6, gamma=0.5, learning_rate=0.05, max_depth=5, min_child_weight=10, n_estimators=1000, objective=multi:softmax, subsample=0.8;, score=0.644 total time= 3.2min\n",
      "[CV 3/3] END colsample_bytree=0.6, gamma=1, learning_rate=0.02, max_depth=15, min_child_weight=1, n_estimators=700, objective=multi:softmax, subsample=0.6;, score=0.695 total time= 8.6min\n"
     ]
    }
   ],
   "source": [
    "print(accuracy_score(y_test, rand_xgb_pred))\n",
    "print(confusion_matrix(y_test, rand_xgb_pred))\n",
    "print(rand_xgb.best_params_)"
   ]
  },
  {
   "cell_type": "code",
   "execution_count": 120,
   "id": "5afe6cbe-0f18-4448-9421-c00702ec8858",
   "metadata": {},
   "outputs": [
    {
     "name": "stdin",
     "output_type": "stream",
     "text": [
      "What is your experience? I don't know how should I react I hide how i feel\n"
     ]
    },
    {
     "name": "stdout",
     "output_type": "stream",
     "text": [
      "\n"
     ]
    }
   ],
   "source": [
    "experience = input('What is your experience?')\n",
    "print(\"\")"
   ]
  },
  {
   "cell_type": "code",
   "execution_count": 121,
   "id": "8ce4b268-4cb3-43af-9fbf-806a95de56c0",
   "metadata": {},
   "outputs": [],
   "source": [
    "exp_df = pd.DataFrame([experience])"
   ]
  },
  {
   "cell_type": "code",
   "execution_count": 122,
   "id": "3302730e-43ad-4b72-9683-98c6bd83620d",
   "metadata": {},
   "outputs": [],
   "source": [
    "vector_input = vectorizer.transform(exp_df[0])"
   ]
  },
  {
   "cell_type": "code",
   "execution_count": 135,
   "id": "32c64ee6-ba38-4658-84ea-fc52e3b3d947",
   "metadata": {},
   "outputs": [
    {
     "name": "stdout",
     "output_type": "stream",
     "text": [
      "The probability of this experience to be related to \n",
      "Anxiety : 0.41, \n",
      "Depression : 0.36, \n",
      "Autistic Masking : 0.18, \n",
      "unrelated to any of the earlier mentioned disorders : 0.05\n"
     ]
    }
   ],
   "source": [
    "prediction = rand_xgb.predict_proba(vector_input)\n",
    "anx, con, dep, mas = prediction[0].tolist()\n",
    "print(f\"The probability of this experience to be related to \\nAnxiety : {anx:.2f}, \\nDepression : {dep:.2f}, \\nAutistic Masking : {mas:.2f}, \\nunrelated to any of the earlier mentioned disorders : {con:.2f}\" )"
   ]
  },
  {
   "cell_type": "code",
   "execution_count": 131,
   "id": "b22661da-b9da-49e8-bb9c-e920bae81148",
   "metadata": {},
   "outputs": [
    {
     "name": "stdout",
     "output_type": "stream",
     "text": [
      "[[0.4148269295692444, 0.04543282464146614, 0.3626559376716614, 0.17708437144756317]]\n"
     ]
    }
   ],
   "source": [
    "print(pred_list)"
   ]
  },
  {
   "cell_type": "code",
   "execution_count": 124,
   "id": "061b00cb-c139-4bf5-ad0c-8a2f36ad3874",
   "metadata": {},
   "outputs": [
    {
     "name": "stdout",
     "output_type": "stream",
     "text": [
      "[0] ['anxiety']\n"
     ]
    }
   ],
   "source": [
    "prediction = rand_xgb.predict(vector_input)\n",
    "print(prediction, le.inverse_transform(prediction))\n"
   ]
  },
  {
   "cell_type": "code",
   "execution_count": 99,
   "id": "a2326ddb-18cd-4746-9d29-2e1817cd34ac",
   "metadata": {},
   "outputs": [],
   "source": [
    "best_xgb = xgb.XGBClassifier(**rand_xgb.best_params_)"
   ]
  },
  {
   "cell_type": "code",
   "execution_count": 100,
   "id": "cf8d43a8-5e4a-4045-8f1b-6b4eab94475d",
   "metadata": {},
   "outputs": [
    {
     "data": {
      "text/html": [
       "<style>#sk-container-id-5 {\n",
       "  /* Definition of color scheme common for light and dark mode */\n",
       "  --sklearn-color-text: black;\n",
       "  --sklearn-color-line: gray;\n",
       "  /* Definition of color scheme for unfitted estimators */\n",
       "  --sklearn-color-unfitted-level-0: #fff5e6;\n",
       "  --sklearn-color-unfitted-level-1: #f6e4d2;\n",
       "  --sklearn-color-unfitted-level-2: #ffe0b3;\n",
       "  --sklearn-color-unfitted-level-3: chocolate;\n",
       "  /* Definition of color scheme for fitted estimators */\n",
       "  --sklearn-color-fitted-level-0: #f0f8ff;\n",
       "  --sklearn-color-fitted-level-1: #d4ebff;\n",
       "  --sklearn-color-fitted-level-2: #b3dbfd;\n",
       "  --sklearn-color-fitted-level-3: cornflowerblue;\n",
       "\n",
       "  /* Specific color for light theme */\n",
       "  --sklearn-color-text-on-default-background: var(--sg-text-color, var(--theme-code-foreground, var(--jp-content-font-color1, black)));\n",
       "  --sklearn-color-background: var(--sg-background-color, var(--theme-background, var(--jp-layout-color0, white)));\n",
       "  --sklearn-color-border-box: var(--sg-text-color, var(--theme-code-foreground, var(--jp-content-font-color1, black)));\n",
       "  --sklearn-color-icon: #696969;\n",
       "\n",
       "  @media (prefers-color-scheme: dark) {\n",
       "    /* Redefinition of color scheme for dark theme */\n",
       "    --sklearn-color-text-on-default-background: var(--sg-text-color, var(--theme-code-foreground, var(--jp-content-font-color1, white)));\n",
       "    --sklearn-color-background: var(--sg-background-color, var(--theme-background, var(--jp-layout-color0, #111)));\n",
       "    --sklearn-color-border-box: var(--sg-text-color, var(--theme-code-foreground, var(--jp-content-font-color1, white)));\n",
       "    --sklearn-color-icon: #878787;\n",
       "  }\n",
       "}\n",
       "\n",
       "#sk-container-id-5 {\n",
       "  color: var(--sklearn-color-text);\n",
       "}\n",
       "\n",
       "#sk-container-id-5 pre {\n",
       "  padding: 0;\n",
       "}\n",
       "\n",
       "#sk-container-id-5 input.sk-hidden--visually {\n",
       "  border: 0;\n",
       "  clip: rect(1px 1px 1px 1px);\n",
       "  clip: rect(1px, 1px, 1px, 1px);\n",
       "  height: 1px;\n",
       "  margin: -1px;\n",
       "  overflow: hidden;\n",
       "  padding: 0;\n",
       "  position: absolute;\n",
       "  width: 1px;\n",
       "}\n",
       "\n",
       "#sk-container-id-5 div.sk-dashed-wrapped {\n",
       "  border: 1px dashed var(--sklearn-color-line);\n",
       "  margin: 0 0.4em 0.5em 0.4em;\n",
       "  box-sizing: border-box;\n",
       "  padding-bottom: 0.4em;\n",
       "  background-color: var(--sklearn-color-background);\n",
       "}\n",
       "\n",
       "#sk-container-id-5 div.sk-container {\n",
       "  /* jupyter's `normalize.less` sets `[hidden] { display: none; }`\n",
       "     but bootstrap.min.css set `[hidden] { display: none !important; }`\n",
       "     so we also need the `!important` here to be able to override the\n",
       "     default hidden behavior on the sphinx rendered scikit-learn.org.\n",
       "     See: https://github.com/scikit-learn/scikit-learn/issues/21755 */\n",
       "  display: inline-block !important;\n",
       "  position: relative;\n",
       "}\n",
       "\n",
       "#sk-container-id-5 div.sk-text-repr-fallback {\n",
       "  display: none;\n",
       "}\n",
       "\n",
       "div.sk-parallel-item,\n",
       "div.sk-serial,\n",
       "div.sk-item {\n",
       "  /* draw centered vertical line to link estimators */\n",
       "  background-image: linear-gradient(var(--sklearn-color-text-on-default-background), var(--sklearn-color-text-on-default-background));\n",
       "  background-size: 2px 100%;\n",
       "  background-repeat: no-repeat;\n",
       "  background-position: center center;\n",
       "}\n",
       "\n",
       "/* Parallel-specific style estimator block */\n",
       "\n",
       "#sk-container-id-5 div.sk-parallel-item::after {\n",
       "  content: \"\";\n",
       "  width: 100%;\n",
       "  border-bottom: 2px solid var(--sklearn-color-text-on-default-background);\n",
       "  flex-grow: 1;\n",
       "}\n",
       "\n",
       "#sk-container-id-5 div.sk-parallel {\n",
       "  display: flex;\n",
       "  align-items: stretch;\n",
       "  justify-content: center;\n",
       "  background-color: var(--sklearn-color-background);\n",
       "  position: relative;\n",
       "}\n",
       "\n",
       "#sk-container-id-5 div.sk-parallel-item {\n",
       "  display: flex;\n",
       "  flex-direction: column;\n",
       "}\n",
       "\n",
       "#sk-container-id-5 div.sk-parallel-item:first-child::after {\n",
       "  align-self: flex-end;\n",
       "  width: 50%;\n",
       "}\n",
       "\n",
       "#sk-container-id-5 div.sk-parallel-item:last-child::after {\n",
       "  align-self: flex-start;\n",
       "  width: 50%;\n",
       "}\n",
       "\n",
       "#sk-container-id-5 div.sk-parallel-item:only-child::after {\n",
       "  width: 0;\n",
       "}\n",
       "\n",
       "/* Serial-specific style estimator block */\n",
       "\n",
       "#sk-container-id-5 div.sk-serial {\n",
       "  display: flex;\n",
       "  flex-direction: column;\n",
       "  align-items: center;\n",
       "  background-color: var(--sklearn-color-background);\n",
       "  padding-right: 1em;\n",
       "  padding-left: 1em;\n",
       "}\n",
       "\n",
       "\n",
       "/* Toggleable style: style used for estimator/Pipeline/ColumnTransformer box that is\n",
       "clickable and can be expanded/collapsed.\n",
       "- Pipeline and ColumnTransformer use this feature and define the default style\n",
       "- Estimators will overwrite some part of the style using the `sk-estimator` class\n",
       "*/\n",
       "\n",
       "/* Pipeline and ColumnTransformer style (default) */\n",
       "\n",
       "#sk-container-id-5 div.sk-toggleable {\n",
       "  /* Default theme specific background. It is overwritten whether we have a\n",
       "  specific estimator or a Pipeline/ColumnTransformer */\n",
       "  background-color: var(--sklearn-color-background);\n",
       "}\n",
       "\n",
       "/* Toggleable label */\n",
       "#sk-container-id-5 label.sk-toggleable__label {\n",
       "  cursor: pointer;\n",
       "  display: block;\n",
       "  width: 100%;\n",
       "  margin-bottom: 0;\n",
       "  padding: 0.5em;\n",
       "  box-sizing: border-box;\n",
       "  text-align: center;\n",
       "}\n",
       "\n",
       "#sk-container-id-5 label.sk-toggleable__label-arrow:before {\n",
       "  /* Arrow on the left of the label */\n",
       "  content: \"▸\";\n",
       "  float: left;\n",
       "  margin-right: 0.25em;\n",
       "  color: var(--sklearn-color-icon);\n",
       "}\n",
       "\n",
       "#sk-container-id-5 label.sk-toggleable__label-arrow:hover:before {\n",
       "  color: var(--sklearn-color-text);\n",
       "}\n",
       "\n",
       "/* Toggleable content - dropdown */\n",
       "\n",
       "#sk-container-id-5 div.sk-toggleable__content {\n",
       "  max-height: 0;\n",
       "  max-width: 0;\n",
       "  overflow: hidden;\n",
       "  text-align: left;\n",
       "  /* unfitted */\n",
       "  background-color: var(--sklearn-color-unfitted-level-0);\n",
       "}\n",
       "\n",
       "#sk-container-id-5 div.sk-toggleable__content.fitted {\n",
       "  /* fitted */\n",
       "  background-color: var(--sklearn-color-fitted-level-0);\n",
       "}\n",
       "\n",
       "#sk-container-id-5 div.sk-toggleable__content pre {\n",
       "  margin: 0.2em;\n",
       "  border-radius: 0.25em;\n",
       "  color: var(--sklearn-color-text);\n",
       "  /* unfitted */\n",
       "  background-color: var(--sklearn-color-unfitted-level-0);\n",
       "}\n",
       "\n",
       "#sk-container-id-5 div.sk-toggleable__content.fitted pre {\n",
       "  /* unfitted */\n",
       "  background-color: var(--sklearn-color-fitted-level-0);\n",
       "}\n",
       "\n",
       "#sk-container-id-5 input.sk-toggleable__control:checked~div.sk-toggleable__content {\n",
       "  /* Expand drop-down */\n",
       "  max-height: 200px;\n",
       "  max-width: 100%;\n",
       "  overflow: auto;\n",
       "}\n",
       "\n",
       "#sk-container-id-5 input.sk-toggleable__control:checked~label.sk-toggleable__label-arrow:before {\n",
       "  content: \"▾\";\n",
       "}\n",
       "\n",
       "/* Pipeline/ColumnTransformer-specific style */\n",
       "\n",
       "#sk-container-id-5 div.sk-label input.sk-toggleable__control:checked~label.sk-toggleable__label {\n",
       "  color: var(--sklearn-color-text);\n",
       "  background-color: var(--sklearn-color-unfitted-level-2);\n",
       "}\n",
       "\n",
       "#sk-container-id-5 div.sk-label.fitted input.sk-toggleable__control:checked~label.sk-toggleable__label {\n",
       "  background-color: var(--sklearn-color-fitted-level-2);\n",
       "}\n",
       "\n",
       "/* Estimator-specific style */\n",
       "\n",
       "/* Colorize estimator box */\n",
       "#sk-container-id-5 div.sk-estimator input.sk-toggleable__control:checked~label.sk-toggleable__label {\n",
       "  /* unfitted */\n",
       "  background-color: var(--sklearn-color-unfitted-level-2);\n",
       "}\n",
       "\n",
       "#sk-container-id-5 div.sk-estimator.fitted input.sk-toggleable__control:checked~label.sk-toggleable__label {\n",
       "  /* fitted */\n",
       "  background-color: var(--sklearn-color-fitted-level-2);\n",
       "}\n",
       "\n",
       "#sk-container-id-5 div.sk-label label.sk-toggleable__label,\n",
       "#sk-container-id-5 div.sk-label label {\n",
       "  /* The background is the default theme color */\n",
       "  color: var(--sklearn-color-text-on-default-background);\n",
       "}\n",
       "\n",
       "/* On hover, darken the color of the background */\n",
       "#sk-container-id-5 div.sk-label:hover label.sk-toggleable__label {\n",
       "  color: var(--sklearn-color-text);\n",
       "  background-color: var(--sklearn-color-unfitted-level-2);\n",
       "}\n",
       "\n",
       "/* Label box, darken color on hover, fitted */\n",
       "#sk-container-id-5 div.sk-label.fitted:hover label.sk-toggleable__label.fitted {\n",
       "  color: var(--sklearn-color-text);\n",
       "  background-color: var(--sklearn-color-fitted-level-2);\n",
       "}\n",
       "\n",
       "/* Estimator label */\n",
       "\n",
       "#sk-container-id-5 div.sk-label label {\n",
       "  font-family: monospace;\n",
       "  font-weight: bold;\n",
       "  display: inline-block;\n",
       "  line-height: 1.2em;\n",
       "}\n",
       "\n",
       "#sk-container-id-5 div.sk-label-container {\n",
       "  text-align: center;\n",
       "}\n",
       "\n",
       "/* Estimator-specific */\n",
       "#sk-container-id-5 div.sk-estimator {\n",
       "  font-family: monospace;\n",
       "  border: 1px dotted var(--sklearn-color-border-box);\n",
       "  border-radius: 0.25em;\n",
       "  box-sizing: border-box;\n",
       "  margin-bottom: 0.5em;\n",
       "  /* unfitted */\n",
       "  background-color: var(--sklearn-color-unfitted-level-0);\n",
       "}\n",
       "\n",
       "#sk-container-id-5 div.sk-estimator.fitted {\n",
       "  /* fitted */\n",
       "  background-color: var(--sklearn-color-fitted-level-0);\n",
       "}\n",
       "\n",
       "/* on hover */\n",
       "#sk-container-id-5 div.sk-estimator:hover {\n",
       "  /* unfitted */\n",
       "  background-color: var(--sklearn-color-unfitted-level-2);\n",
       "}\n",
       "\n",
       "#sk-container-id-5 div.sk-estimator.fitted:hover {\n",
       "  /* fitted */\n",
       "  background-color: var(--sklearn-color-fitted-level-2);\n",
       "}\n",
       "\n",
       "/* Specification for estimator info (e.g. \"i\" and \"?\") */\n",
       "\n",
       "/* Common style for \"i\" and \"?\" */\n",
       "\n",
       ".sk-estimator-doc-link,\n",
       "a:link.sk-estimator-doc-link,\n",
       "a:visited.sk-estimator-doc-link {\n",
       "  float: right;\n",
       "  font-size: smaller;\n",
       "  line-height: 1em;\n",
       "  font-family: monospace;\n",
       "  background-color: var(--sklearn-color-background);\n",
       "  border-radius: 1em;\n",
       "  height: 1em;\n",
       "  width: 1em;\n",
       "  text-decoration: none !important;\n",
       "  margin-left: 1ex;\n",
       "  /* unfitted */\n",
       "  border: var(--sklearn-color-unfitted-level-1) 1pt solid;\n",
       "  color: var(--sklearn-color-unfitted-level-1);\n",
       "}\n",
       "\n",
       ".sk-estimator-doc-link.fitted,\n",
       "a:link.sk-estimator-doc-link.fitted,\n",
       "a:visited.sk-estimator-doc-link.fitted {\n",
       "  /* fitted */\n",
       "  border: var(--sklearn-color-fitted-level-1) 1pt solid;\n",
       "  color: var(--sklearn-color-fitted-level-1);\n",
       "}\n",
       "\n",
       "/* On hover */\n",
       "div.sk-estimator:hover .sk-estimator-doc-link:hover,\n",
       ".sk-estimator-doc-link:hover,\n",
       "div.sk-label-container:hover .sk-estimator-doc-link:hover,\n",
       ".sk-estimator-doc-link:hover {\n",
       "  /* unfitted */\n",
       "  background-color: var(--sklearn-color-unfitted-level-3);\n",
       "  color: var(--sklearn-color-background);\n",
       "  text-decoration: none;\n",
       "}\n",
       "\n",
       "div.sk-estimator.fitted:hover .sk-estimator-doc-link.fitted:hover,\n",
       ".sk-estimator-doc-link.fitted:hover,\n",
       "div.sk-label-container:hover .sk-estimator-doc-link.fitted:hover,\n",
       ".sk-estimator-doc-link.fitted:hover {\n",
       "  /* fitted */\n",
       "  background-color: var(--sklearn-color-fitted-level-3);\n",
       "  color: var(--sklearn-color-background);\n",
       "  text-decoration: none;\n",
       "}\n",
       "\n",
       "/* Span, style for the box shown on hovering the info icon */\n",
       ".sk-estimator-doc-link span {\n",
       "  display: none;\n",
       "  z-index: 9999;\n",
       "  position: relative;\n",
       "  font-weight: normal;\n",
       "  right: .2ex;\n",
       "  padding: .5ex;\n",
       "  margin: .5ex;\n",
       "  width: min-content;\n",
       "  min-width: 20ex;\n",
       "  max-width: 50ex;\n",
       "  color: var(--sklearn-color-text);\n",
       "  box-shadow: 2pt 2pt 4pt #999;\n",
       "  /* unfitted */\n",
       "  background: var(--sklearn-color-unfitted-level-0);\n",
       "  border: .5pt solid var(--sklearn-color-unfitted-level-3);\n",
       "}\n",
       "\n",
       ".sk-estimator-doc-link.fitted span {\n",
       "  /* fitted */\n",
       "  background: var(--sklearn-color-fitted-level-0);\n",
       "  border: var(--sklearn-color-fitted-level-3);\n",
       "}\n",
       "\n",
       ".sk-estimator-doc-link:hover span {\n",
       "  display: block;\n",
       "}\n",
       "\n",
       "/* \"?\"-specific style due to the `<a>` HTML tag */\n",
       "\n",
       "#sk-container-id-5 a.estimator_doc_link {\n",
       "  float: right;\n",
       "  font-size: 1rem;\n",
       "  line-height: 1em;\n",
       "  font-family: monospace;\n",
       "  background-color: var(--sklearn-color-background);\n",
       "  border-radius: 1rem;\n",
       "  height: 1rem;\n",
       "  width: 1rem;\n",
       "  text-decoration: none;\n",
       "  /* unfitted */\n",
       "  color: var(--sklearn-color-unfitted-level-1);\n",
       "  border: var(--sklearn-color-unfitted-level-1) 1pt solid;\n",
       "}\n",
       "\n",
       "#sk-container-id-5 a.estimator_doc_link.fitted {\n",
       "  /* fitted */\n",
       "  border: var(--sklearn-color-fitted-level-1) 1pt solid;\n",
       "  color: var(--sklearn-color-fitted-level-1);\n",
       "}\n",
       "\n",
       "/* On hover */\n",
       "#sk-container-id-5 a.estimator_doc_link:hover {\n",
       "  /* unfitted */\n",
       "  background-color: var(--sklearn-color-unfitted-level-3);\n",
       "  color: var(--sklearn-color-background);\n",
       "  text-decoration: none;\n",
       "}\n",
       "\n",
       "#sk-container-id-5 a.estimator_doc_link.fitted:hover {\n",
       "  /* fitted */\n",
       "  background-color: var(--sklearn-color-fitted-level-3);\n",
       "}\n",
       "</style><div id=\"sk-container-id-5\" class=\"sk-top-container\"><div class=\"sk-text-repr-fallback\"><pre>XGBClassifier(base_score=None, booster=None, callbacks=None,\n",
       "              colsample_bylevel=None, colsample_bynode=None,\n",
       "              colsample_bytree=0.6, device=None, early_stopping_rounds=None,\n",
       "              enable_categorical=False, eval_metric=None, feature_types=None,\n",
       "              gamma=1, grow_policy=None, importance_type=None,\n",
       "              interaction_constraints=None, learning_rate=0.05, max_bin=None,\n",
       "              max_cat_threshold=None, max_cat_to_onehot=None,\n",
       "              max_delta_step=None, max_depth=10, max_leaves=None,\n",
       "              min_child_weight=1, missing=nan, monotone_constraints=None,\n",
       "              multi_strategy=None, n_estimators=500, n_jobs=None,\n",
       "              num_parallel_tree=None, objective=&#x27;multi:softmax&#x27;, ...)</pre><b>In a Jupyter environment, please rerun this cell to show the HTML representation or trust the notebook. <br />On GitHub, the HTML representation is unable to render, please try loading this page with nbviewer.org.</b></div><div class=\"sk-container\" hidden><div class=\"sk-item\"><div class=\"sk-estimator fitted sk-toggleable\"><input class=\"sk-toggleable__control sk-hidden--visually\" id=\"sk-estimator-id-9\" type=\"checkbox\" checked><label for=\"sk-estimator-id-9\" class=\"sk-toggleable__label fitted sk-toggleable__label-arrow fitted\">&nbsp;XGBClassifier<span class=\"sk-estimator-doc-link fitted\">i<span>Fitted</span></span></label><div class=\"sk-toggleable__content fitted\"><pre>XGBClassifier(base_score=None, booster=None, callbacks=None,\n",
       "              colsample_bylevel=None, colsample_bynode=None,\n",
       "              colsample_bytree=0.6, device=None, early_stopping_rounds=None,\n",
       "              enable_categorical=False, eval_metric=None, feature_types=None,\n",
       "              gamma=1, grow_policy=None, importance_type=None,\n",
       "              interaction_constraints=None, learning_rate=0.05, max_bin=None,\n",
       "              max_cat_threshold=None, max_cat_to_onehot=None,\n",
       "              max_delta_step=None, max_depth=10, max_leaves=None,\n",
       "              min_child_weight=1, missing=nan, monotone_constraints=None,\n",
       "              multi_strategy=None, n_estimators=500, n_jobs=None,\n",
       "              num_parallel_tree=None, objective=&#x27;multi:softmax&#x27;, ...)</pre></div> </div></div></div></div>"
      ],
      "text/plain": [
       "XGBClassifier(base_score=None, booster=None, callbacks=None,\n",
       "              colsample_bylevel=None, colsample_bynode=None,\n",
       "              colsample_bytree=0.6, device=None, early_stopping_rounds=None,\n",
       "              enable_categorical=False, eval_metric=None, feature_types=None,\n",
       "              gamma=1, grow_policy=None, importance_type=None,\n",
       "              interaction_constraints=None, learning_rate=0.05, max_bin=None,\n",
       "              max_cat_threshold=None, max_cat_to_onehot=None,\n",
       "              max_delta_step=None, max_depth=10, max_leaves=None,\n",
       "              min_child_weight=1, missing=nan, monotone_constraints=None,\n",
       "              multi_strategy=None, n_estimators=500, n_jobs=None,\n",
       "              num_parallel_tree=None, objective='multi:softmax', ...)"
      ]
     },
     "execution_count": 100,
     "metadata": {},
     "output_type": "execute_result"
    }
   ],
   "source": [
    "best_xgb.fit(X_train, y_train)"
   ]
  },
  {
   "cell_type": "code",
   "execution_count": null,
   "id": "83bd713c-7bca-41a7-9916-bc7669a879d0",
   "metadata": {},
   "outputs": [],
   "source": []
  },
  {
   "cell_type": "code",
   "execution_count": 101,
   "id": "9246450f-8f0c-4659-8e3e-405d6906c993",
   "metadata": {},
   "outputs": [
    {
     "name": "stdout",
     "output_type": "stream",
     "text": [
      "0.7028241335044929\n",
      "[[261  31  26  63]\n",
      " [ 20 226  24  73]\n",
      " [ 36  28 233  55]\n",
      " [ 36  41  30 375]]\n"
     ]
    }
   ],
   "source": [
    "print(accuracy_score(y_test, best_xgb.predict(X_test)))\n",
    "print(confusion_matrix(y_test, best_xgb.predict(X_test)))"
   ]
  },
  {
   "cell_type": "code",
   "execution_count": 102,
   "id": "3e955f5e-624b-4c0a-8476-5b3c14976fba",
   "metadata": {},
   "outputs": [
    {
     "data": {
      "text/plain": [
       "['tunedXGB_model.joblib']"
      ]
     },
     "execution_count": 102,
     "metadata": {},
     "output_type": "execute_result"
    }
   ],
   "source": [
    "dump(best_xgb, 'tunedXGB_model.joblib') "
   ]
  },
  {
   "cell_type": "code",
   "execution_count": null,
   "id": "60c55619-9d13-49ba-941f-fc71a6e4ecf8",
   "metadata": {},
   "outputs": [],
   "source": []
  }
 ],
 "metadata": {
  "kernelspec": {
   "display_name": "venv",
   "language": "python",
   "name": "venv"
  },
  "language_info": {
   "codemirror_mode": {
    "name": "ipython",
    "version": 3
   },
   "file_extension": ".py",
   "mimetype": "text/x-python",
   "name": "python",
   "nbconvert_exporter": "python",
   "pygments_lexer": "ipython3",
   "version": "3.10.12"
  }
 },
 "nbformat": 4,
 "nbformat_minor": 5
}
